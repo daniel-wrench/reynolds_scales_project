{
 "cells": [
  {
   "cell_type": "markdown",
   "metadata": {},
   "source": [
    "## Estimating the correlation scale and Taylor scale\n",
    "*Demonstrating the calculation of numerically-derived variables in the Wind database*\n",
    "\n",
    "As well as raw variables such as electron density and magnetic field strength, and analytically-derived variables such as Alfven speed and ion gyroradius, the *Wind* database contains numerically-derived (\"estimated\") variables. The two parameters we are most interested are the *correlation scale* and *Taylor scale*. Both scales are calculated from the autocorrelation function, and both require some thought as to what technique to use to calculate them.\n",
    "\n",
    "### Notes\n",
    "- The interval used to demonstrate the pipeline is not ideal in that its ACF lacks the desired parabolic shape near the origin and overall exponential shape. However, it is still a useful demonstration given that not all ACFs will have this nice shape.\n",
    "- Scales are returned in units of seconds\n",
    "- For demonstration purposes, `plot=True` arguments in functions assume a solar wind speed of 400km/s. The specific speeds measured for each interval are used in the actual analysis. \n",
    "- We expect slight variation from Kevin's numbers due to using a cadence of 11Hz instead of 10Hz."
   ]
  },
  {
   "cell_type": "code",
   "execution_count": 1,
   "metadata": {},
   "outputs": [
    {
     "name": "stderr",
     "output_type": "stream",
     "text": [
      "c:\\Users\\spann\\AppData\\Local\\Programs\\Python\\Python310\\lib\\site-packages\\scipy\\__init__.py:146: UserWarning: A NumPy version >=1.17.3 and <1.25.0 is required for this version of SciPy (detected version 1.26.2\n",
      "  warnings.warn(f\"A NumPy version >={np_minversion} and <{np_maxversion}\"\n"
     ]
    }
   ],
   "source": [
    "import numpy as np\n",
    "from matplotlib import pyplot as plt\n",
    "import pandas as pd\n",
    "import importlib\n",
    "\n",
    "#import os\n",
    "# while \".toplevel\" not in os.listdir():\n",
    "#     os.chdir(\"..\")\n",
    "\n",
    "import src.utils as utils\n",
    "import src.params as params\n",
    "\n",
    "sys_arg_dict = {\n",
    "    # arg1\n",
    "    \"mag_path\": params.mag_path,\n",
    "    \"omni_path\": params.omni_path,\n",
    "    \"proton_path\": params.proton_path,\n",
    "    \"electron_path\": params.electron_path,\n",
    "\n",
    "    # arg2\n",
    "    \"mag_vars\": [params.timestamp, params.Bwind, params.Bwind_vec],\n",
    "    \"omni_vars\": [params.timestamp, params.vsw, params.p, params.Bomni],\n",
    "    \"proton_vars\": [params.timestamp, params.np, params.Tp],\n",
    "    \"electron_vars\": [params.timestamp, params.ne, params.Te],\n",
    "\n",
    "    # arg3\n",
    "    \"mag_thresh\": params.mag_thresh,\n",
    "    \"omni_thresh\": params.omni_thresh,\n",
    "    \"proton_thresh\": params.proton_thresh,\n",
    "    \"electron_thresh\": params.electron_thresh,\n",
    "\n",
    "    # arg4\n",
    "    \"dt_hr\": params.dt_hr,\n",
    "    \"int_size\": params.int_size,\n",
    "\n",
    "    # arg5\n",
    "    \"dt_lr\": params.dt_lr\n",
    "}"
   ]
  },
  {
   "cell_type": "code",
   "execution_count": 2,
   "metadata": {},
   "outputs": [],
   "source": [
    "# Set fontsize of plots (check matches utils.py)\n",
    "plt.rcParams.update({'font.size': 9})\n",
    "plt.rc('text', usetex=True)"
   ]
  },
  {
   "cell_type": "code",
   "execution_count": 3,
   "metadata": {},
   "outputs": [
    {
     "data": {
      "text/plain": [
       "<module 'src.utils' from 'c:\\\\Users\\\\spann\\\\Documents\\\\Research\\\\Code repos\\\\reynolds_scales_project\\\\src\\\\utils.py'>"
      ]
     },
     "execution_count": 3,
     "metadata": {},
     "output_type": "execute_result"
    }
   ],
   "source": [
    "importlib.reload(utils)"
   ]
  },
  {
   "attachments": {},
   "cell_type": "markdown",
   "metadata": {},
   "source": [
    "In a bash terminal, run `bash 0_download_files.sh`, followed by `bash 1_get_raw_vars.sh`. (For some reason `%%bash` command in a Jupyter cell isn't working)"
   ]
  },
  {
   "cell_type": "markdown",
   "metadata": {},
   "source": [
    "## Calculating numerically-derived variables"
   ]
  },
  {
   "cell_type": "markdown",
   "metadata": {},
   "source": [
    "### 11Hz data"
   ]
  },
  {
   "cell_type": "code",
   "execution_count": 4,
   "metadata": {},
   "outputs": [],
   "source": [
    "file = \"data/raw/wind/mfi/mfi_h2/2016/wi_h2_mfi_20160102_v05.cdf\"\n",
    "timestamp = \"2016-01-02 12:00:00\""
   ]
  },
  {
   "cell_type": "code",
   "execution_count": 5,
   "metadata": {},
   "outputs": [],
   "source": [
    "df = utils.pipeline(\n",
    "    file,\n",
    "    varlist=sys_arg_dict[\"mag_vars\"],\n",
    "    thresholds=sys_arg_dict[\"mag_thresh\"],\n",
    "    cadence=sys_arg_dict[\"dt_hr\"]\n",
    ")\n",
    "#print(\"Reading {0}: {1:.2f}% missing\".format(file, df.iloc[:,0].isna().sum()/len(df)*100))\n",
    "\n",
    "# Ensuring observations are in chronological order\n",
    "df_wind_hr = df.sort_index()"
   ]
  },
  {
   "cell_type": "code",
   "execution_count": 6,
   "metadata": {},
   "outputs": [
    {
     "data": {
      "text/plain": [
       "(939131, 4)"
      ]
     },
     "execution_count": 6,
     "metadata": {},
     "output_type": "execute_result"
    }
   ],
   "source": [
    "#df_wind_hr = pd.read_pickle(\"data/processed/\" + params.mag_path + params.dt_hr + \".pkl\")\n",
    "df_wind_hr = df_wind_hr.rename(\n",
    "    columns={\n",
    "        params.Bwind:'Bwind',\n",
    "        params.Bx:'Bx',\n",
    "        params.By:'By',\n",
    "        params.Bz:'Bz'})\n",
    "\n",
    "df_wind_hr.shape"
   ]
  },
  {
   "attachments": {},
   "cell_type": "markdown",
   "metadata": {},
   "source": [
    "Extracting a single 12-hour interval to demonstrate the pipeline. *The timestamp \"00:00\" refers to data betweeen 00:00 and 12:00.*"
   ]
  },
  {
   "cell_type": "code",
   "execution_count": 7,
   "metadata": {},
   "outputs": [
    {
     "data": {
      "text/plain": [
       "(156521, 4)"
      ]
     },
     "execution_count": 7,
     "metadata": {},
     "output_type": "execute_result"
    }
   ],
   "source": [
    "int_wind_hr = df_wind_hr[pd.to_datetime(timestamp):pd.to_datetime(timestamp)+pd.to_timedelta(params.int_size)]\n",
    "int_wind_hr.shape"
   ]
  },
  {
   "cell_type": "code",
   "execution_count": 8,
   "metadata": {},
   "outputs": [
    {
     "name": "stdout",
     "output_type": "stream",
     "text": [
      "<class 'pandas.core.frame.DataFrame'>\n",
      "DatetimeIndex: 156521 entries, 2016-01-02 12:00:00.072000 to 2016-01-02 15:59:59.912000\n",
      "Freq: 92L\n",
      "Data columns (total 4 columns):\n",
      " #   Column  Non-Null Count   Dtype  \n",
      "---  ------  --------------   -----  \n",
      " 0   Bwind   150896 non-null  float32\n",
      " 1   Bx      150896 non-null  float32\n",
      " 2   By      150896 non-null  float32\n",
      " 3   Bz      150896 non-null  float32\n",
      "dtypes: float32(4)\n",
      "memory usage: 3.6 MB\n"
     ]
    }
   ],
   "source": [
    "int_wind_hr.info()"
   ]
  },
  {
   "cell_type": "code",
   "execution_count": 9,
   "metadata": {},
   "outputs": [
    {
     "data": {
      "text/plain": [
       "Bwind    5625\n",
       "Bx       5625\n",
       "By       5625\n",
       "Bz       5625\n",
       "dtype: int64"
      ]
     },
     "execution_count": 9,
     "metadata": {},
     "output_type": "execute_result"
    }
   ],
   "source": [
    "int_wind_hr.isna().sum()"
   ]
  },
  {
   "cell_type": "markdown",
   "metadata": {},
   "source": [
    "### 0.2Hz data"
   ]
  },
  {
   "cell_type": "code",
   "execution_count": 10,
   "metadata": {},
   "outputs": [
    {
     "data": {
      "text/plain": [
       "(17280, 4)"
      ]
     },
     "execution_count": 10,
     "metadata": {},
     "output_type": "execute_result"
    }
   ],
   "source": [
    "#df_wind_lr = pd.read_pickle(\"data/processed/\" + params.mag_path + params.dt_lr + \".pkl\")\n",
    "# df_wind_lr = df_wind_lr.rename(\n",
    "#     columns={\n",
    "#         params.Bwind:'Bwind',\n",
    "#         params.Bx:'Bx',\n",
    "#         params.By:'By',\n",
    "#         params.Bz:'Bz'})\n",
    "\n",
    "df_wind_lr = df_wind_hr.resample(\"5S\").mean()\n",
    "df_wind_lr.shape"
   ]
  },
  {
   "cell_type": "markdown",
   "metadata": {},
   "source": [
    "Extracting a single interval to demonstrate the pipeline"
   ]
  },
  {
   "cell_type": "code",
   "execution_count": 11,
   "metadata": {},
   "outputs": [
    {
     "data": {
      "text/plain": [
       "(2881, 4)"
      ]
     },
     "execution_count": 11,
     "metadata": {},
     "output_type": "execute_result"
    }
   ],
   "source": [
    "int_wind_lr = df_wind_lr[pd.to_datetime(timestamp):pd.to_datetime(timestamp)+pd.to_timedelta(params.int_size)]\n",
    "int_wind_lr.shape"
   ]
  },
  {
   "cell_type": "code",
   "execution_count": 12,
   "metadata": {},
   "outputs": [
    {
     "data": {
      "image/png": "[encoded data removed]",
      "text/plain": [
       "<Figure size 432x288 with 4 Axes>"
      ]
     },
     "metadata": {
      "needs_background": "light"
     },
     "output_type": "display_data"
    }
   ],
   "source": [
    "int_wind_lr.plot(subplots=True)\n",
    "plt.show()"
   ]
  },
  {
   "cell_type": "code",
   "execution_count": 13,
   "metadata": {},
   "outputs": [
    {
     "name": "stdout",
     "output_type": "stream",
     "text": [
      "0.0359376697056625\n"
     ]
    }
   ],
   "source": [
    "missing =  int_wind_hr.iloc[:,0].isna().sum()/len(int_wind_hr)\n",
    "print(missing)\n",
    "\n",
    "if missing > 0.4:\n",
    "    # Replacing values in lists with na\n",
    "    print(\"Large missing %\")\n",
    "else:\n",
    "    int_wind_hr = int_wind_hr.interpolate().ffill().bfill()\n",
    "    int_wind_lr = int_wind_lr.interpolate().ffill().bfill()"
   ]
  },
  {
   "cell_type": "code",
   "execution_count": 14,
   "metadata": {},
   "outputs": [
    {
     "data": {
      "text/plain": [
       "Bwind    0\n",
       "Bx       0\n",
       "By       0\n",
       "Bz       0\n",
       "dtype: int64"
      ]
     },
     "execution_count": 14,
     "metadata": {},
     "output_type": "execute_result"
    }
   ],
   "source": [
    "int_wind_hr.isna().sum()"
   ]
  },
  {
   "cell_type": "code",
   "execution_count": 15,
   "metadata": {},
   "outputs": [
    {
     "data": {
      "text/plain": [
       "Bwind    0\n",
       "Bx       0\n",
       "By       0\n",
       "Bz       0\n",
       "dtype: int64"
      ]
     },
     "execution_count": 15,
     "metadata": {},
     "output_type": "execute_result"
    }
   ],
   "source": [
    "int_wind_lr.isna().sum()"
   ]
  },
  {
   "cell_type": "code",
   "execution_count": 16,
   "metadata": {},
   "outputs": [],
   "source": [
    "# Takes ~ 5min\n",
    "\n",
    "#int_wind_hr.plot(subplots=True)\n",
    "#plt.show()"
   ]
  },
  {
   "cell_type": "markdown",
   "metadata": {},
   "source": [
    "In order to fully implement Chuychai's method, we need the spectral index (slope) of the power law in the dissipation range. Here we compute a smoothed 3D periodogram for a single high-res interval, then perform a least squares fit of a power law to the inertial and kinetic ranges to determine their slopes and the spectral break."
   ]
  },
  {
   "cell_type": "markdown",
   "metadata": {},
   "source": [
    "**Maths for calculating breakpoint:**\n",
    "\n",
    "Each power-law fit is given by the following equation:\n",
    "\n",
    "$$y =x^me^c$$\n",
    "\n",
    "This is because if we take the log of both sides, we get the formula for a straight line on a log-log plot:\n",
    "\n",
    "$$\\log(y) = m\\log(x)+c$$\n",
    "\n",
    "We want to find the x-value for which the two power-laws are equal. We can do this by subtracting one from the other and finding the value of $\\log(x)$ where this subtraction = 0, i.e., the root of the equation.\n",
    "\n",
    "$$m_1\\log(x)+c_1-m_2\\log(x)-c_2=0$$\n",
    "\n",
    "Finally, we take the exponential of this root to get the x-value of the spectral break\n",
    "\n",
    "$$x = e^{\\log(x)}$$"
   ]
  },
  {
   "cell_type": "code",
   "execution_count": 17,
   "metadata": {},
   "outputs": [],
   "source": [
    "# Reading in dataframe to get values for qi, di, etc.\n",
    "df_wind = pd.read_csv(\"wind_dataset.csv\", index_col=\"Timestamp\")\n",
    "df_wind.index = pd.to_datetime(df_wind.index)"
   ]
  },
  {
   "cell_type": "code",
   "execution_count": 18,
   "metadata": {},
   "outputs": [
    {
     "data": {
      "text/html": [
       "<div>\n",
       "<style scoped>\n",
       "    .dataframe tbody tr th:only-of-type {\n",
       "        vertical-align: middle;\n",
       "    }\n",
       "\n",
       "    .dataframe tbody tr th {\n",
       "        vertical-align: top;\n",
       "    }\n",
       "\n",
       "    .dataframe thead th {\n",
       "        text-align: right;\n",
       "    }\n",
       "</style>\n",
       "<table border=\"1\" class=\"dataframe\">\n",
       "  <thead>\n",
       "    <tr style=\"text-align: right;\">\n",
       "      <th></th>\n",
       "      <th>Re_lt</th>\n",
       "      <th>Re_tb</th>\n",
       "      <th>Re_di</th>\n",
       "    </tr>\n",
       "  </thead>\n",
       "  <tbody>\n",
       "    <tr>\n",
       "      <th>count</th>\n",
       "      <td>1.970300e+04</td>\n",
       "      <td>1.839900e+04</td>\n",
       "      <td>1.722500e+04</td>\n",
       "    </tr>\n",
       "    <tr>\n",
       "      <th>mean</th>\n",
       "      <td>1.209253e+08</td>\n",
       "      <td>1.316693e+05</td>\n",
       "      <td>3.749882e+05</td>\n",
       "    </tr>\n",
       "    <tr>\n",
       "      <th>std</th>\n",
       "      <td>7.841428e+09</td>\n",
       "      <td>2.037565e+05</td>\n",
       "      <td>4.030641e+05</td>\n",
       "    </tr>\n",
       "    <tr>\n",
       "      <th>min</th>\n",
       "      <td>1.255346e+03</td>\n",
       "      <td>3.476500e-01</td>\n",
       "      <td>6.719223e+01</td>\n",
       "    </tr>\n",
       "    <tr>\n",
       "      <th>25%</th>\n",
       "      <td>8.101501e+05</td>\n",
       "      <td>3.186781e+04</td>\n",
       "      <td>1.398007e+05</td>\n",
       "    </tr>\n",
       "    <tr>\n",
       "      <th>50%</th>\n",
       "      <td>1.832300e+06</td>\n",
       "      <td>6.906081e+04</td>\n",
       "      <td>2.506057e+05</td>\n",
       "    </tr>\n",
       "    <tr>\n",
       "      <th>75%</th>\n",
       "      <td>4.398361e+06</td>\n",
       "      <td>1.471352e+05</td>\n",
       "      <td>4.592258e+05</td>\n",
       "    </tr>\n",
       "    <tr>\n",
       "      <th>max</th>\n",
       "      <td>9.272259e+11</td>\n",
       "      <td>3.677702e+06</td>\n",
       "      <td>7.931448e+06</td>\n",
       "    </tr>\n",
       "  </tbody>\n",
       "</table>\n",
       "</div>"
      ],
      "text/plain": [
       "              Re_lt         Re_tb         Re_di\n",
       "count  1.970300e+04  1.839900e+04  1.722500e+04\n",
       "mean   1.209253e+08  1.316693e+05  3.749882e+05\n",
       "std    7.841428e+09  2.037565e+05  4.030641e+05\n",
       "min    1.255346e+03  3.476500e-01  6.719223e+01\n",
       "25%    8.101501e+05  3.186781e+04  1.398007e+05\n",
       "50%    1.832300e+06  6.906081e+04  2.506057e+05\n",
       "75%    4.398361e+06  1.471352e+05  4.592258e+05\n",
       "max    9.272259e+11  3.677702e+06  7.931448e+06"
      ]
     },
     "execution_count": 18,
     "metadata": {},
     "output_type": "execute_result"
    }
   ],
   "source": [
    "df_wind[['Re_lt', 'Re_tb', 'Re_di']].describe()"
   ]
  },
  {
   "cell_type": "code",
   "execution_count": 19,
   "metadata": {},
   "outputs": [
    {
     "data": {
      "text/html": [
       "<div>\n",
       "<style scoped>\n",
       "    .dataframe tbody tr th:only-of-type {\n",
       "        vertical-align: middle;\n",
       "    }\n",
       "\n",
       "    .dataframe tbody tr th {\n",
       "        vertical-align: top;\n",
       "    }\n",
       "\n",
       "    .dataframe thead th {\n",
       "        text-align: right;\n",
       "    }\n",
       "</style>\n",
       "<table border=\"1\" class=\"dataframe\">\n",
       "  <thead>\n",
       "    <tr style=\"text-align: right;\">\n",
       "      <th></th>\n",
       "      <th>Re_lt</th>\n",
       "      <th>Re_tb</th>\n",
       "      <th>Re_di</th>\n",
       "    </tr>\n",
       "  </thead>\n",
       "  <tbody>\n",
       "    <tr>\n",
       "      <th>Re_lt</th>\n",
       "      <td>1.000000</td>\n",
       "      <td>0.030710</td>\n",
       "      <td>0.022769</td>\n",
       "    </tr>\n",
       "    <tr>\n",
       "      <th>Re_tb</th>\n",
       "      <td>0.030710</td>\n",
       "      <td>1.000000</td>\n",
       "      <td>0.689551</td>\n",
       "    </tr>\n",
       "    <tr>\n",
       "      <th>Re_di</th>\n",
       "      <td>0.022769</td>\n",
       "      <td>0.689551</td>\n",
       "      <td>1.000000</td>\n",
       "    </tr>\n",
       "  </tbody>\n",
       "</table>\n",
       "</div>"
      ],
      "text/plain": [
       "          Re_lt     Re_tb     Re_di\n",
       "Re_lt  1.000000  0.030710  0.022769\n",
       "Re_tb  0.030710  1.000000  0.689551\n",
       "Re_di  0.022769  0.689551  1.000000"
      ]
     },
     "execution_count": 19,
     "metadata": {},
     "output_type": "execute_result"
    }
   ],
   "source": [
    "df_wind[['Re_lt', 'Re_tb', 'Re_di']].corr('pearson')"
   ]
  },
  {
   "cell_type": "code",
   "execution_count": 20,
   "metadata": {},
   "outputs": [
    {
     "data": {
      "text/html": [
       "<div>\n",
       "<style scoped>\n",
       "    .dataframe tbody tr th:only-of-type {\n",
       "        vertical-align: middle;\n",
       "    }\n",
       "\n",
       "    .dataframe tbody tr th {\n",
       "        vertical-align: top;\n",
       "    }\n",
       "\n",
       "    .dataframe thead th {\n",
       "        text-align: right;\n",
       "    }\n",
       "</style>\n",
       "<table border=\"1\" class=\"dataframe\">\n",
       "  <thead>\n",
       "    <tr style=\"text-align: right;\">\n",
       "      <th></th>\n",
       "      <th>Re_lt</th>\n",
       "      <th>Re_tb</th>\n",
       "      <th>Re_di</th>\n",
       "    </tr>\n",
       "  </thead>\n",
       "  <tbody>\n",
       "    <tr>\n",
       "      <th>Re_lt</th>\n",
       "      <td>1.000000</td>\n",
       "      <td>0.461822</td>\n",
       "      <td>0.723722</td>\n",
       "    </tr>\n",
       "    <tr>\n",
       "      <th>Re_tb</th>\n",
       "      <td>0.461822</td>\n",
       "      <td>1.000000</td>\n",
       "      <td>0.744292</td>\n",
       "    </tr>\n",
       "    <tr>\n",
       "      <th>Re_di</th>\n",
       "      <td>0.723722</td>\n",
       "      <td>0.744292</td>\n",
       "      <td>1.000000</td>\n",
       "    </tr>\n",
       "  </tbody>\n",
       "</table>\n",
       "</div>"
      ],
      "text/plain": [
       "          Re_lt     Re_tb     Re_di\n",
       "Re_lt  1.000000  0.461822  0.723722\n",
       "Re_tb  0.461822  1.000000  0.744292\n",
       "Re_di  0.723722  0.744292  1.000000"
      ]
     },
     "execution_count": 20,
     "metadata": {},
     "output_type": "execute_result"
    }
   ],
   "source": [
    "df_wind[['Re_lt', 'Re_tb', 'Re_di']].corr('spearman')"
   ]
  },
  {
   "attachments": {},
   "cell_type": "markdown",
   "metadata": {},
   "source": [
    "The following requires specification of the inertial and kinetic ranges. I have used the values used previously in the literature for Wind spectral analysis. Sometimes we cannot get a good intersection between the two for a spectral break."
   ]
  },
  {
   "cell_type": "code",
   "execution_count": 21,
   "metadata": {},
   "outputs": [
    {
     "data": {
      "text/plain": [
       "<module 'src.utils' from 'c:\\\\Users\\\\spann\\\\Documents\\\\Research\\\\Code repos\\\\reynolds_scales_project\\\\src\\\\utils.py'>"
      ]
     },
     "execution_count": 21,
     "metadata": {},
     "output_type": "execute_result"
    }
   ],
   "source": [
    "importlib.reload(utils)"
   ]
  },
  {
   "cell_type": "code",
   "execution_count": 28,
   "metadata": {},
   "outputs": [
    {
     "data": {
      "text/plain": [
       "(-1.6891685118303983, -2.972541650739682, 0.27169095622473316)"
      ]
     },
     "execution_count": 28,
     "metadata": {},
     "output_type": "execute_result"
    },
    {
     "data": {
      "image/png": "[encoded data removed]",
      "text/plain": [
       "<Figure size 237.6x144 with 1 Axes>"
      ]
     },
     "metadata": {
      "needs_background": "light"
     },
     "output_type": "display_data"
    }
   ],
   "source": [
    "qi, qk, spectral_break, fig, ax, f_periodogram, p_smooth = utils.compute_spectral_stats(\n",
    "    np.array([int_wind_hr.Bx, int_wind_hr.By, int_wind_hr.Bz]), \n",
    "    dt=float(params.dt_hr[:-1]),\n",
    "    f_min_inertial=params.f_min_inertial, f_max_inertial=params.f_max_inertial,\n",
    "    f_min_kinetic=params.f_min_kinetic, f_max_kinetic=params.f_max_kinetic,\n",
    "    timestamp = timestamp,\n",
    "    di = df_wind.loc[timestamp, \"dp\"],\n",
    "    velocity = df_wind.loc[timestamp, \"V0\"],\n",
    "    plot=True)\n",
    "\n",
    "qi, qk, spectral_break"
   ]
  },
  {
   "cell_type": "code",
   "execution_count": null,
   "metadata": {},
   "outputs": [],
   "source": [
    "#fig.savefig(\"plots/final/spectrum_annotated.pdf\")"
   ]
  },
  {
   "cell_type": "markdown",
   "metadata": {},
   "source": [
    "- $\\alpha_{i}=-1.66$\n",
    "- $\\alpha_{k}=-2.4$\n",
    "- $f_d=0.26$ Hz (dissipation scale)\n",
    "- $\\tau_d=1/f_d=1/0.26=3.8$\n",
    "\n",
    "Chuychai et al. recommend that the resolution of the data be at least as good as $\\Delta t <0.4\\tau_d$. We later find the mean value of $\\tau_d$ to be $1/0.25=4$. Using this value, we see our resolution is sufficient:\n",
    "\n",
    "- $1/11 = 0.091$\n",
    "- $0.4\\times4=1.6$\n",
    "- $0.091 < 1.6$\n",
    "\n",
    "<u>We need to justify the frequency bounds we have specified for fitting the power law slopes.</u>\n",
    "See e.g. *The kinetic range is usually above the spacecraft frame frequency corresponding to the proton inertial length, $f_{pi}=v_{SW}/(2\\pi\\lambda_{pi}$)* (from Pitna et al. (2021), quantities plotted as vertical lines above)."
   ]
  },
  {
   "cell_type": "markdown",
   "metadata": {},
   "source": [
    "### ACF function\n",
    "\n",
    "This is what we use to calculate the correlation scale and Taylor scale. Note that Chuychai et al. did not calculate the ACF directly from the data; they calculated it from the second-order structure function. Here, we will calculate it directly from the data.\n",
    "\n",
    "The following function is based off Kevin's `compute_corr.compute_correlation_time_scale.compute_autocorrelation_function()`. It automatically detects whether being fed 1D (scalar) or 3D time series, for which the calculation is as follows:\n",
    "\n",
    "$$R(\\tau)=\\frac{1}{3}\\times(R_{xx}(\\tau)+R_{yy}(\\tau)+R_{zz}(\\tau))$$"
   ]
  },
  {
   "cell_type": "markdown",
   "metadata": {},
   "source": [
    "The following low-cadence, high $r$ ACF will be used for calculating the outer scale."
   ]
  },
  {
   "cell_type": "code",
   "execution_count": 29,
   "metadata": {},
   "outputs": [
    {
     "data": {
      "text/plain": [
       "<module 'src.utils' from 'c:\\\\Users\\\\spann\\\\Documents\\\\Research\\\\Code repos\\\\reynolds_scales_project\\\\src\\\\utils.py'>"
      ]
     },
     "execution_count": 29,
     "metadata": {},
     "output_type": "execute_result"
    }
   ],
   "source": [
    "importlib.reload(utils)"
   ]
  },
  {
   "cell_type": "code",
   "execution_count": 30,
   "metadata": {},
   "outputs": [
    {
     "data": {
      "image/png": "[encoded data removed]",
      "text/plain": [
       "<Figure size 432x288 with 1 Axes>"
      ]
     },
     "metadata": {
      "needs_background": "light"
     },
     "output_type": "display_data"
    }
   ],
   "source": [
    "time_lags_lr, r_vec_lr = utils.compute_nd_acf(\n",
    "    np.array(\n",
    "        [int_wind_lr.Bx, int_wind_lr.By, int_wind_lr.Bz]), \n",
    "        nlags=params.nlags_lr, \n",
    "        dt=float(params.dt_lr[:-1]), # Removing \"S\" from end \n",
    "        plot=True\n",
    "    )"
   ]
  },
  {
   "cell_type": "markdown",
   "metadata": {},
   "source": [
    "The following high-cadence, low $r$ ACF will be used for calculating the Taylor scale."
   ]
  },
  {
   "cell_type": "code",
   "execution_count": 31,
   "metadata": {},
   "outputs": [
    {
     "data": {
      "image/png": "[encoded data removed]",
      "text/plain": [
       "<Figure size 432x288 with 1 Axes>"
      ]
     },
     "metadata": {
      "needs_background": "light"
     },
     "output_type": "display_data"
    }
   ],
   "source": [
    "time_lags_hr, r_vec_hr = utils.compute_nd_acf(\n",
    "    np.array([\n",
    "            int_wind_hr.Bx, \n",
    "            int_wind_hr.By, \n",
    "            int_wind_hr.Bz\n",
    "            ]), \n",
    "        nlags=params.nlags_hr, \n",
    "        dt = float(params.dt_hr[:-1]), # Removing unit \"S\" from end \n",
    "        plot = True)"
   ]
  },
  {
   "cell_type": "markdown",
   "metadata": {},
   "source": [
    "### Correlation scale functions\n",
    "\n",
    "Names for $\\tau_c$:\n",
    "- Outer scale\n",
    "- (Longitudinal) integral scale\n",
    "- Correlation scale\n",
    "\n",
    "Methods for calculating:\n",
    "- 1/e trick\n",
    "- Exponential fit\n",
    "- Integration\n",
    "\n",
    "Smith et al. (2001) used the 1/e trick method (which they call $e$-folding) and the integration method. In Appendix B of their paper, they show how the estimates by either method increase depending on the lag up to which you calculate the ACF."
   ]
  },
  {
   "cell_type": "markdown",
   "metadata": {},
   "source": [
    "Firstly, using Kevin's function (just with plotting functionality added) for computing outer scale using $1/e$ trick:\n",
    "\n",
    "**If we set $f(\\tau)=\\exp(-\\tau/\\tau_c)=e^{-1}$, then $\\tau_c=\\tau$.**\n",
    "\n",
    "Kevin referred to the value calculated from this method in his analysis as `estimate` and `Correlation_timescale_est`."
   ]
  },
  {
   "cell_type": "code",
   "execution_count": 32,
   "metadata": {},
   "outputs": [
    {
     "data": {
      "text/plain": [
       "<module 'src.utils' from 'c:\\\\Users\\\\spann\\\\Documents\\\\Research\\\\Code repos\\\\reynolds_scales_project\\\\src\\\\utils.py'>"
      ]
     },
     "execution_count": 32,
     "metadata": {},
     "output_type": "execute_result"
    }
   ],
   "source": [
    "importlib.reload(utils)"
   ]
  },
  {
   "cell_type": "code",
   "execution_count": 33,
   "metadata": {},
   "outputs": [
    {
     "data": {
      "text/plain": [
       "993.257"
      ]
     },
     "execution_count": 33,
     "metadata": {},
     "output_type": "execute_result"
    },
    {
     "data": {
      "image/png": "[encoded data removed]",
      "text/plain": [
       "<Figure size 237.6x180 with 1 Axes>"
      ]
     },
     "metadata": {
      "needs_background": "light"
     },
     "output_type": "display_data"
    }
   ],
   "source": [
    "tce, fig, ax = utils.compute_outer_scale_exp_trick(time_lags_lr, r_vec_lr, plot = True)\n",
    "tce"
   ]
  },
  {
   "cell_type": "markdown",
   "metadata": {},
   "source": [
    "What values should we expect? The lit review spreadsheet shows values in the range of $\\lambda_C=$ 320,000 - 1,200,000km.\n",
    "\n",
    "Secondly, adapting Kevin's function for computing outer scale using exponential fit, from `compute_correlation_time_scale()`. A function of the following form is fit to the ACF $R(\\tau)$.\n",
    "\n",
    "$$f(\\tau)=\\exp(-\\tau/\\tau_c)$$\n",
    "\n",
    "\n",
    "Kevin referred to the value calculated from this method as `lambda_c` and `Correlation_timescale`.\n",
    "\n",
    "<u>How to choose how much of the ACF to fit to?</u> Kevin used 1000 seconds, which was decided \"through some trial and error and inspection of plotted results\". While we should keep in mind that the correlation length will tend to increase with the maximum lag we fit to, I think we should fit to much more than 1000 seconds, as in the literature we see typical fits to 1-3,000,000km, corresponding to 2500-7500 seconds or 500-1500 lags. **We are now fitting to 2 times the correlation timescale, as estimated by the 1/e method.**"
   ]
  },
  {
   "cell_type": "markdown",
   "metadata": {},
   "source": [
    "**Fit to 2 * 1/e estimate**"
   ]
  },
  {
   "cell_type": "code",
   "execution_count": 34,
   "metadata": {},
   "outputs": [
    {
     "data": {
      "text/plain": [
       "884.6780047172061"
      ]
     },
     "execution_count": 34,
     "metadata": {},
     "output_type": "execute_result"
    }
   ],
   "source": [
    "tcf, fig, ax = utils.compute_outer_scale_exp_fit(time_lags=time_lags_lr, acf=r_vec_lr, seconds_to_fit=np.round(2*tce), fig = fig, ax = ax, plot = True)\n",
    "tcf"
   ]
  },
  {
   "cell_type": "markdown",
   "metadata": {},
   "source": [
    "Finally, creating a function for computing outer scale as integral of the ACF. This formula comes from the re-arrangement of the simple exponential that a time series follows if it approximates a Markov process (Batchelor, 1970). \n",
    "\n",
    "$$\\tau_C=\\int_0^\\infty R(\\tau)d\\tau$$"
   ]
  },
  {
   "cell_type": "code",
   "execution_count": 35,
   "metadata": {},
   "outputs": [
    {
     "data": {
      "text/plain": [
       "355.7868603269101"
      ]
     },
     "execution_count": 35,
     "metadata": {},
     "output_type": "execute_result"
    }
   ],
   "source": [
    "tci, fig, ax = utils.compute_outer_scale_integral(time_lags_lr, r_vec_lr, fig=fig, ax=ax, plot = True)\n",
    "tci"
   ]
  },
  {
   "cell_type": "code",
   "execution_count": 36,
   "metadata": {},
   "outputs": [
    {
     "data": {
      "image/png": "[encoded data removed]",
      "text/plain": [
       "<Figure size 237.6x180 with 1 Axes>"
      ]
     },
     "execution_count": 36,
     "metadata": {},
     "output_type": "execute_result"
    }
   ],
   "source": [
    "fig"
   ]
  },
  {
   "cell_type": "code",
   "execution_count": 37,
   "metadata": {},
   "outputs": [],
   "source": [
    "fig.savefig('plots/final/corr_scale_methods.pdf')"
   ]
  },
  {
   "attachments": {
    "image-2.png": {
     "image/png": "[encoded data removed]"
    },
    "image.png": {
     "image/png": "[encoded data removed]"
    }
   },
   "cell_type": "markdown",
   "metadata": {},
   "source": [
    "Isaacs et al. (2015) looked at the effect of **interval size** on the estimate of the correlation length, using data from ACE and comparing against the \"true\", multi-spacecraft value. The plots below line up quite well with the values calculated from our 6-hour intervals. In the accompanying discussion on pg10 of the paper, they state \"averaging intervals of 10-20 hours appear to have a special significance with regard to computation of correlation scales.\"\n",
    "\n",
    "\n",
    "![image.png](attachment:image.png)\n",
    "\n",
    "![image.png](attachment:image-2.png)"
   ]
  },
  {
   "cell_type": "markdown",
   "metadata": {},
   "source": [
    "### Taylor scale function\n",
    "\n",
    "Taylor microscale (time domain) = $\\tau_{TS}$ = radius of curvature of ACF at the origin. \n",
    "\n",
    "Can calculate using second derivative of the ACF at the origin, but this is not commonly done as it is very sensitive to behaviour at the origin. Here we use the parabolic fit method. This code is adapted from Kevin's `compute_taylor_time_scale()`.\n",
    "\n",
    "Previously this function took the number of seconds to fit the parabola over as the input, and then converted this to the number of lags. (This was chosen to be 2 seconds = 20 lags.) In line with Chuychai's method, this function now takes the number of lags `tau_fit` as input directly."
   ]
  },
  {
   "cell_type": "code",
   "execution_count": 38,
   "metadata": {},
   "outputs": [
    {
     "data": {
      "text/plain": [
       "<module 'src.utils' from 'c:\\\\Users\\\\spann\\\\Documents\\\\Research\\\\Code repos\\\\reynolds_scales_project\\\\src\\\\utils.py'>"
      ]
     },
     "execution_count": 38,
     "metadata": {},
     "output_type": "execute_result"
    }
   ],
   "source": [
    "importlib.reload(utils)"
   ]
  },
  {
   "cell_type": "code",
   "execution_count": 39,
   "metadata": {},
   "outputs": [
    {
     "name": "stderr",
     "output_type": "stream",
     "text": [
      "c:\\Users\\spann\\Documents\\Research\\Code repos\\reynolds_scales_project\\src\\utils.py:534: UserWarning: color is redundantly defined by the 'color' keyword argument and the fmt string \"-y\" (-> color='y'). The keyword argument will take precedence.\n",
      "  ax[0].plot(\n"
     ]
    },
    {
     "data": {
      "text/plain": [
       "16.881427128620384"
      ]
     },
     "execution_count": 39,
     "metadata": {},
     "output_type": "execute_result"
    },
    {
     "data": {
      "image/png": "[encoded data removed]",
      "text/plain": [
       "<Figure size 237.6x288 with 2 Axes>"
      ]
     },
     "metadata": {
      "needs_background": "light"
     },
     "output_type": "display_data"
    }
   ],
   "source": [
    "lambda_t, fig, ax = utils.compute_taylor_scale(time_lags_hr, r_vec_hr, tau_fit=15, plot = True, show_intercept=False)\n",
    "lambda_t\n",
    "# Set show_intercept = True if you want piece of mind that the value returned is actually the x-intercept"
   ]
  },
  {
   "attachments": {},
   "cell_type": "markdown",
   "metadata": {},
   "source": [
    "#### Chuychai (Richardson) extrapolation method\n",
    "\n",
    "We can't just use the above function for some very small lag close to the origin, because as noted by Chuychai et al., \"it is not practical to compute this limit because the data has a finite time resolution and there may be limited data available at the shortest time lags\". Therefore, we can calculate the Taylor scale from a parabolic fit for a *range* of values of $\\tau_{fit}$, up to $\\tau_{max}$. Plot these values as a function of $\\tau_{fit}$, then draw a straight line through the points back to $\\tau_{fit}=0$. \n",
    "\n",
    "See lit review spreadsheet for ranges of $\\tau_{fit}$ in other studies.\n",
    "\n",
    "Chuychai's notation:\n",
    "- $\\tau_{fit}$: parabola is fitted from $\\tau=0$ to $\\tau=\\tau_{fit}$\n",
    "- $\\tau_{TS}^{est}(\\tau_{fit})$ = estimate of $\\tau_{TS}$ for a given value of $\\tau_{fit}$\n",
    "- $\\tau_{TS}^{extra}$: estimate obtained by the extrapolation method\n",
    "- $\\tau_{TS}$: final estimate after applying correction factor\n",
    "- $q$ = dissipation scale index\n",
    "- $\\tau_{d}$ = Kolmogorov scale (time domain) - point where the inertial range terminates and the spectrum steepens\n",
    "\n",
    "<u>How do we choose the upper value, $\\tau_{max}$?</u> This is investigated in Fig. 5 of Chuychai. Weygand et al. (2007) show an example of reaching a stable estimate as $\\tau_{max}$ increases, but Chuychai shows that this is dependent on the spectral index. In particular, they note that we are more likely to reach a stable estimate of $\\lambda_{TS}$ after extrapolation when we have a steep spectral index $q$ in the dissipation range. A smaller $q$ means we do not obtain a stable estimate.\n",
    "\n",
    "**Here we have decided to set $\\tau_{min}$ = 10 lags $\\approx 1s $ and $\\tau_{max}$= 50 lags $\\approx 5s$.** This is roughly in line with what Chuychai & Matthaeus did for ACE data, while reducing $\\tau_{max}$ due to understanding that we will not get convergence with increasing $\\tau_{max}$ due to the relatively shallow values of $q$. This also matches their recommendation that a good estimate is obtained by an extrapolation of the curves evaluated near $\\tau_{max}=\\tau_d=4s$.\n",
    "\n",
    "Chuychai et al. then developed an additional correction factor \"which can be used when estimates of the [slope of the] high-frequency spectrum of the signal are available in some way, whether it be observations, theory, or an informed guess\". The equation for this final estimate is given in Eq. 10 of the paper, and is coded into the following function."
   ]
  },
  {
   "cell_type": "markdown",
   "metadata": {},
   "source": [
    "We can compare the following to Fig. 4 in Chuychai, and less directly to Figs. 5 and 7 in Weygand et al. (2007)"
   ]
  },
  {
   "cell_type": "code",
   "execution_count": 40,
   "metadata": {},
   "outputs": [
    {
     "data": {
      "text/plain": [
       "10.439224996528113"
      ]
     },
     "execution_count": 40,
     "metadata": {},
     "output_type": "execute_result"
    }
   ],
   "source": [
    "# Not applying Chuychai correction factor\n",
    "ts_est_extra, ts_est_extra_std = utils.compute_taylor_chuychai(\n",
    "    time_lags_hr, \n",
    "    r_vec_hr, \n",
    "    tau_min=params.tau_min, \n",
    "    tau_max=params.tau_max)\n",
    "ts_est_extra"
   ]
  },
  {
   "cell_type": "code",
   "execution_count": 41,
   "metadata": {},
   "outputs": [
    {
     "name": "stdout",
     "output_type": "stream",
     "text": [
      "8.74282182206719 0.06478335431516805\n"
     ]
    }
   ],
   "source": [
    "# Applying Chuychai correction factor\n",
    "ts_est, ts_est_std, fig, ax = utils.compute_taylor_chuychai(\n",
    "    time_lags_hr, \n",
    "    r_vec_hr, \n",
    "    tau_min=params.tau_min, \n",
    "    tau_max=params.tau_max, \n",
    "    q = df_wind.loc[timestamp, \"qk\"], \n",
    "    fig=fig,\n",
    "    ax=ax)\n",
    "print(ts_est, ts_est_std)"
   ]
  },
  {
   "cell_type": "code",
   "execution_count": 42,
   "metadata": {},
   "outputs": [
    {
     "data": {
      "image/png": "[encoded data removed]",
      "text/plain": [
       "<Figure size 237.6x288 with 2 Axes>"
      ]
     },
     "execution_count": 42,
     "metadata": {},
     "output_type": "execute_result"
    }
   ],
   "source": [
    "fig"
   ]
  },
  {
   "cell_type": "code",
   "execution_count": 43,
   "metadata": {},
   "outputs": [],
   "source": [
    "fig.savefig(\"plots/final/taylor_scale_methods.pdf\")"
   ]
  },
  {
   "cell_type": "code",
   "execution_count": 44,
   "metadata": {},
   "outputs": [],
   "source": [
    "# Meta-analysis: dependence on t_max. Takes ~ 4min to run\n",
    "\n",
    "# tau_max_lower = 20\n",
    "# tau_max_upper = 1000\n",
    "\n",
    "# tau_fit_max = np.arange(tau_max_lower, tau_max_upper +1)\n",
    "# tau_ts_meta = np.array([])\n",
    "\n",
    "# for i in tau_fit_max:\n",
    "#     ts_est_final = compute_taylor_chuychai(time_lags_hr, r_vec_hr, tau_min=10, tau_max=i, q = -2.14, show = False)\n",
    "#     tau_ts_meta = np.append(tau_ts_meta, ts_est_final)\n",
    "\n",
    "# plt.plot(tau_fit_max, tau_ts_meta)\n",
    "# plt.xlabel(\"$\\\\tau_{max}$\")\n",
    "# plt.ylabel(\"$\\\\tau_{final}$\")\n",
    "# plt.show()"
   ]
  },
  {
   "attachments": {},
   "cell_type": "markdown",
   "metadata": {},
   "source": [
    "These settings can be investigated by looking at the output plots of the `calculate_numerical_vars.py` script. These show the ACFs and fits for the min, median and max correlation scale (exp method) and Taylor scale."
   ]
  },
  {
   "cell_type": "markdown",
   "metadata": {},
   "source": [
    "### Spectrum comparison for intervals with different energies\n",
    "This is the update to the spectrum \"cartoon\" which demonstrates the important of the Taylor scale Re in capturing the different energies (fluctuation amplitudes)"
   ]
  },
  {
   "cell_type": "code",
   "execution_count": 45,
   "metadata": {},
   "outputs": [
    {
     "ename": "KeyError",
     "evalue": "\"['di'] not in index\"",
     "output_type": "error",
     "traceback": [
      "\u001b[1;31m---------------------------------------------------------------------------\u001b[0m",
      "\u001b[1;31mKeyError\u001b[0m                                  Traceback (most recent call last)",
      "Input \u001b[1;32mIn [45]\u001b[0m, in \u001b[0;36m<cell line: 5>\u001b[1;34m()\u001b[0m\n\u001b[0;32m      2\u001b[0m timestamp_1 \u001b[38;5;241m=\u001b[39m \u001b[38;5;124m\"\u001b[39m\u001b[38;5;124m1996-10-15 00:00:00\u001b[39m\u001b[38;5;124m\"\u001b[39m\n\u001b[0;32m      3\u001b[0m timestamp_2 \u001b[38;5;241m=\u001b[39m \u001b[38;5;124m\"\u001b[39m\u001b[38;5;124m2004-02-28 12:00\u001b[39m\u001b[38;5;124m\"\u001b[39m\n\u001b[1;32m----> 5\u001b[0m \u001b[43mdf_wind\u001b[49m\u001b[38;5;241;43m.\u001b[39;49m\u001b[43mloc\u001b[49m\u001b[43m[\u001b[49m\u001b[43m[\u001b[49m\u001b[43mtimestamp_1\u001b[49m\u001b[43m,\u001b[49m\u001b[43m \u001b[49m\u001b[43mtimestamp_2\u001b[49m\u001b[43m]\u001b[49m\u001b[43m]\u001b[49m\u001b[43m[\u001b[49m\u001b[43m[\u001b[49m\u001b[38;5;124;43m'\u001b[39;49m\u001b[38;5;124;43mtcf\u001b[39;49m\u001b[38;5;124;43m'\u001b[39;49m\u001b[43m,\u001b[49m\u001b[43m \u001b[49m\u001b[38;5;124;43m'\u001b[39;49m\u001b[38;5;124;43mdi\u001b[39;49m\u001b[38;5;124;43m'\u001b[39;49m\u001b[43m,\u001b[49m\u001b[43m \u001b[49m\u001b[38;5;124;43m'\u001b[39;49m\u001b[38;5;124;43mdb\u001b[39;49m\u001b[38;5;124;43m'\u001b[39;49m\u001b[43m,\u001b[49m\u001b[43m \u001b[49m\u001b[38;5;124;43m'\u001b[39;49m\u001b[38;5;124;43mqi\u001b[39;49m\u001b[38;5;124;43m'\u001b[39;49m\u001b[43m,\u001b[49m\u001b[43m \u001b[49m\u001b[38;5;124;43m'\u001b[39;49m\u001b[38;5;124;43mqk\u001b[39;49m\u001b[38;5;124;43m'\u001b[39;49m\u001b[43m,\u001b[49m\u001b[43m \u001b[49m\u001b[38;5;124;43m'\u001b[39;49m\u001b[38;5;124;43mtb\u001b[39;49m\u001b[38;5;124;43m'\u001b[39;49m\u001b[43m,\u001b[49m\u001b[43m \u001b[49m\u001b[38;5;124;43m'\u001b[39;49m\u001b[38;5;124;43mRe_di\u001b[39;49m\u001b[38;5;124;43m'\u001b[39;49m\u001b[43m,\u001b[49m\u001b[43m \u001b[49m\u001b[38;5;124;43m'\u001b[39;49m\u001b[38;5;124;43mRe_tb\u001b[39;49m\u001b[38;5;124;43m'\u001b[39;49m\u001b[43m,\u001b[49m\u001b[43m \u001b[49m\u001b[38;5;124;43m'\u001b[39;49m\u001b[38;5;124;43mRe_lt\u001b[39;49m\u001b[38;5;124;43m'\u001b[39;49m\u001b[43m,\u001b[49m\u001b[43m \u001b[49m\u001b[38;5;124;43m'\u001b[39;49m\u001b[38;5;124;43mttc\u001b[39;49m\u001b[38;5;124;43m'\u001b[39;49m\u001b[43m]\u001b[49m\u001b[43m]\u001b[49m\n",
      "File \u001b[1;32mc:\\Users\\spann\\AppData\\Local\\Programs\\Python\\Python310\\lib\\site-packages\\pandas\\core\\frame.py:3511\u001b[0m, in \u001b[0;36mDataFrame.__getitem__\u001b[1;34m(self, key)\u001b[0m\n\u001b[0;32m   3509\u001b[0m     \u001b[38;5;28;01mif\u001b[39;00m is_iterator(key):\n\u001b[0;32m   3510\u001b[0m         key \u001b[38;5;241m=\u001b[39m \u001b[38;5;28mlist\u001b[39m(key)\n\u001b[1;32m-> 3511\u001b[0m     indexer \u001b[38;5;241m=\u001b[39m \u001b[38;5;28;43mself\u001b[39;49m\u001b[38;5;241;43m.\u001b[39;49m\u001b[43mcolumns\u001b[49m\u001b[38;5;241;43m.\u001b[39;49m\u001b[43m_get_indexer_strict\u001b[49m\u001b[43m(\u001b[49m\u001b[43mkey\u001b[49m\u001b[43m,\u001b[49m\u001b[43m \u001b[49m\u001b[38;5;124;43m\"\u001b[39;49m\u001b[38;5;124;43mcolumns\u001b[39;49m\u001b[38;5;124;43m\"\u001b[39;49m\u001b[43m)\u001b[49m[\u001b[38;5;241m1\u001b[39m]\n\u001b[0;32m   3513\u001b[0m \u001b[38;5;66;03m# take() does not accept boolean indexers\u001b[39;00m\n\u001b[0;32m   3514\u001b[0m \u001b[38;5;28;01mif\u001b[39;00m \u001b[38;5;28mgetattr\u001b[39m(indexer, \u001b[38;5;124m\"\u001b[39m\u001b[38;5;124mdtype\u001b[39m\u001b[38;5;124m\"\u001b[39m, \u001b[38;5;28;01mNone\u001b[39;00m) \u001b[38;5;241m==\u001b[39m \u001b[38;5;28mbool\u001b[39m:\n",
      "File \u001b[1;32mc:\\Users\\spann\\AppData\\Local\\Programs\\Python\\Python310\\lib\\site-packages\\pandas\\core\\indexes\\base.py:5782\u001b[0m, in \u001b[0;36mIndex._get_indexer_strict\u001b[1;34m(self, key, axis_name)\u001b[0m\n\u001b[0;32m   5779\u001b[0m \u001b[38;5;28;01melse\u001b[39;00m:\n\u001b[0;32m   5780\u001b[0m     keyarr, indexer, new_indexer \u001b[38;5;241m=\u001b[39m \u001b[38;5;28mself\u001b[39m\u001b[38;5;241m.\u001b[39m_reindex_non_unique(keyarr)\n\u001b[1;32m-> 5782\u001b[0m \u001b[38;5;28;43mself\u001b[39;49m\u001b[38;5;241;43m.\u001b[39;49m\u001b[43m_raise_if_missing\u001b[49m\u001b[43m(\u001b[49m\u001b[43mkeyarr\u001b[49m\u001b[43m,\u001b[49m\u001b[43m \u001b[49m\u001b[43mindexer\u001b[49m\u001b[43m,\u001b[49m\u001b[43m \u001b[49m\u001b[43maxis_name\u001b[49m\u001b[43m)\u001b[49m\n\u001b[0;32m   5784\u001b[0m keyarr \u001b[38;5;241m=\u001b[39m \u001b[38;5;28mself\u001b[39m\u001b[38;5;241m.\u001b[39mtake(indexer)\n\u001b[0;32m   5785\u001b[0m \u001b[38;5;28;01mif\u001b[39;00m \u001b[38;5;28misinstance\u001b[39m(key, Index):\n\u001b[0;32m   5786\u001b[0m     \u001b[38;5;66;03m# GH 42790 - Preserve name from an Index\u001b[39;00m\n",
      "File \u001b[1;32mc:\\Users\\spann\\AppData\\Local\\Programs\\Python\\Python310\\lib\\site-packages\\pandas\\core\\indexes\\base.py:5845\u001b[0m, in \u001b[0;36mIndex._raise_if_missing\u001b[1;34m(self, key, indexer, axis_name)\u001b[0m\n\u001b[0;32m   5842\u001b[0m     \u001b[38;5;28;01mraise\u001b[39;00m \u001b[38;5;167;01mKeyError\u001b[39;00m(\u001b[38;5;124mf\u001b[39m\u001b[38;5;124m\"\u001b[39m\u001b[38;5;124mNone of [\u001b[39m\u001b[38;5;132;01m{\u001b[39;00mkey\u001b[38;5;132;01m}\u001b[39;00m\u001b[38;5;124m] are in the [\u001b[39m\u001b[38;5;132;01m{\u001b[39;00maxis_name\u001b[38;5;132;01m}\u001b[39;00m\u001b[38;5;124m]\u001b[39m\u001b[38;5;124m\"\u001b[39m)\n\u001b[0;32m   5844\u001b[0m not_found \u001b[38;5;241m=\u001b[39m \u001b[38;5;28mlist\u001b[39m(ensure_index(key)[missing_mask\u001b[38;5;241m.\u001b[39mnonzero()[\u001b[38;5;241m0\u001b[39m]]\u001b[38;5;241m.\u001b[39munique())\n\u001b[1;32m-> 5845\u001b[0m \u001b[38;5;28;01mraise\u001b[39;00m \u001b[38;5;167;01mKeyError\u001b[39;00m(\u001b[38;5;124mf\u001b[39m\u001b[38;5;124m\"\u001b[39m\u001b[38;5;132;01m{\u001b[39;00mnot_found\u001b[38;5;132;01m}\u001b[39;00m\u001b[38;5;124m not in index\u001b[39m\u001b[38;5;124m\"\u001b[39m)\n",
      "\u001b[1;31mKeyError\u001b[0m: \"['di'] not in index\""
     ]
    }
   ],
   "source": [
    "# Min and max of db. Want to compute the intervals of these.\n",
    "timestamp_1 = \"1996-10-15 00:00:00\"\n",
    "timestamp_2 = \"2004-02-28 12:00\"\n",
    "\n",
    "df_wind.loc[[timestamp_1, timestamp_2]][['tcf', 'di', 'db', 'qi', 'qk', 'tb', 'Re_di', 'Re_tb', 'Re_lt', 'ttc']]"
   ]
  },
  {
   "cell_type": "code",
   "execution_count": null,
   "metadata": {},
   "outputs": [],
   "source": [
    "def process_get_spectra(file, timestamp):\n",
    "    print(file, timestamp)\n",
    "\n",
    "    df = utils.pipeline(\n",
    "    file,\n",
    "    varlist=sys_arg_dict[\"mag_vars\"],\n",
    "    thresholds=sys_arg_dict[\"mag_thresh\"],\n",
    "    cadence=sys_arg_dict[\"dt_hr\"]\n",
    ")\n",
    "    #print(\"Reading {0}: {1:.2f}% missing\".format(file, df.iloc[:,0].isna().sum()/len(df)*100))\n",
    "\n",
    "    # Ensuring observations are in chronological order\n",
    "    df_wind_hr = df.sort_index()\n",
    "\n",
    "    df_wind_hr = df_wind_hr.rename(\n",
    "    columns={\n",
    "        params.Bwind:'Bwind',\n",
    "        params.Bx:'Bx',\n",
    "        params.By:'By',\n",
    "        params.Bz:'Bz'})\n",
    "\n",
    "    df_wind_hr.shape\n",
    "    int_wind_hr = df_wind_hr[pd.to_datetime(timestamp):pd.to_datetime(timestamp)+pd.to_timedelta(params.int_size)]\n",
    "    int_wind_hr.shape   \n",
    "\n",
    "    missing =  int_wind_hr.iloc[:,0].isna().sum()/len(int_wind_hr)\n",
    "    print(missing)\n",
    "\n",
    "    if missing > 0.4:\n",
    "        # Replacing values in lists with na\n",
    "        print(\"Large missing %\")\n",
    "    else:\n",
    "        int_wind_hr = int_wind_hr.interpolate().ffill().bfill()\n",
    "\n",
    "    z_i, z_k, spectral_break, fig, ax, f_periodogram, p_smooth = utils.compute_spectral_stats(\n",
    "        np.array([int_wind_hr.Bx, int_wind_hr.By, int_wind_hr.Bz]), \n",
    "        dt=float(params.dt_hr[:-1]),\n",
    "        f_min_inertial=params.f_min_inertial, f_max_inertial=params.f_max_inertial,\n",
    "        f_min_kinetic=params.f_min_kinetic, f_max_kinetic=params.f_max_kinetic,\n",
    "        plot=True)\n",
    "    \n",
    "    return z_i, z_k, spectral_break, f_periodogram, p_smooth"
   ]
  },
  {
   "cell_type": "code",
   "execution_count": null,
   "metadata": {},
   "outputs": [
    {
     "name": "stdout",
     "output_type": "stream",
     "text": [
      "data/spare_data/1996/wi_h2_mfi_19961015_v05.cdf 1996-10-15 00:00:00\n"
     ]
    },
    {
     "name": "stdout",
     "output_type": "stream",
     "text": [
      "0.008940170284901378\n"
     ]
    },
    {
     "name": "stderr",
     "output_type": "stream",
     "text": [
      "posx and posy should be finite values\n",
      "posx and posy should be finite values\n"
     ]
    },
    {
     "data": {
      "image/png": "[encoded data removed]",
      "text/plain": [
       "<Figure size 237.6x144 with 1 Axes>"
      ]
     },
     "metadata": {
      "needs_background": "light"
     },
     "output_type": "display_data"
    }
   ],
   "source": [
    "z_i1, z_k1, spectral_break1, f_periodogram1, p_smooth1 = process_get_spectra(\"data/spare_data/1996/wi_h2_mfi_19961015_v05.cdf\", timestamp_1)"
   ]
  },
  {
   "cell_type": "code",
   "execution_count": null,
   "metadata": {},
   "outputs": [
    {
     "name": "stdout",
     "output_type": "stream",
     "text": [
      "data/spare_data/2004/wi_h2_mfi_20040228_v05.cdf 2004-02-28 12:00\n"
     ]
    },
    {
     "name": "stdout",
     "output_type": "stream",
     "text": [
      "0.008535577684831035\n"
     ]
    },
    {
     "data": {
      "image/png": "[encoded data removed]",
      "text/plain": [
       "<Figure size 237.6x144 with 1 Axes>"
      ]
     },
     "metadata": {
      "needs_background": "light"
     },
     "output_type": "display_data"
    }
   ],
   "source": [
    "z_i2, z_k2, spectral_break2, f_periodogram2, p_smooth2 = process_get_spectra(\"data/spare_data/2004/wi_h2_mfi_20040228_v05.cdf\", timestamp_2)"
   ]
  },
  {
   "cell_type": "code",
   "execution_count": null,
   "metadata": {},
   "outputs": [],
   "source": [
    "df_wind['f_cf'] = 1/(df_wind['tcf']*2*np.pi)\n",
    "df_wind['f_di'] = df_wind['vsw']/(df_wind['di']*2*np.pi)"
   ]
  },
  {
   "cell_type": "code",
   "execution_count": null,
   "metadata": {},
   "outputs": [
    {
     "data": {
      "text/plain": [
       "[]"
      ]
     },
     "execution_count": 106,
     "metadata": {},
     "output_type": "execute_result"
    },
    {
     "data": {
      "image/png": "[encoded data removed]",
      "text/plain": [
       "<Figure size 237.6x144 with 1 Axes>"
      ]
     },
     "metadata": {},
     "output_type": "display_data"
    }
   ],
   "source": [
    "fig, ax = plt.subplots(figsize = (3.3,2))\n",
    "ax.set_ylim(1e-6, 1e8)\n",
    "ax.set_xlim(1e-5, 5)\n",
    "\n",
    "ax.semilogy(f_periodogram1, p_smooth1, color = \"black\")\n",
    "ax.semilogy(f_periodogram2, p_smooth2, color = \"gray\")\n",
    "ax.semilogx()\n",
    "ax.set_xlabel(\"$\\log(k)$\")\n",
    "ax.set_ylabel(\"$\\log(E(k))$\")\n",
    "ax.axvline(df_wind.loc[timestamp_1, \"f_di\"], color = \"black\")\n",
    "ax.axvline(df_wind.loc[timestamp_2, \"f_di\"], color = \"gray\")\n",
    "#ax.axvline(5e-1, label = \"$\\lambda_d$\", color='black', alpha = 0.6)\n",
    "ax.axvline(df_wind.loc[timestamp_1, \"f_cf\"], color = \"black\")\n",
    "ax.axvline(df_wind.loc[timestamp_2, \"f_cf\"], color = \"gray\")\n",
    "ax.text(2e-4, 1e-5, \"$\\lambda_C$\")\n",
    "ax.text(2e-1, 1e-5, \"$d_i$\")\n",
    "ax.text(2e-3, 1e6, \"$Re_{{d_i}}={0:.0f}$\".format(round(df_wind.loc[timestamp_2, \"Re_di\"],-3)),\n",
    "                                                          color=\"gray\")\n",
    "ax.text(2e-3, 1e5, \"$Re_{{d_i}}={0:.0f}$\".format(round(df_wind.loc[timestamp_1, \"Re_di\"],-3)),\n",
    "                                                          color=\"black\")                   \n",
    "ax.text(2e-3, 5e-3, \"$Re_{{\\lambda_T}}={0:.0f}$\".format(round(df_wind.loc[timestamp_2, \"Re_lt\"],-3)),\n",
    "                                                            color = \"gray\")\n",
    "ax.text(2e-3, 5e-4, \"$Re_{{\\lambda_T}}={0:.0f}$\".format(round(df_wind.loc[timestamp_1, \"Re_lt\"],-3)),\n",
    "                                                          color = \"black\")\n",
    "                                       \n",
    "ax.set_xticks([])\n",
    "ax.set_xticks([], minor=True)\n",
    "ax.set_yticks([])"
   ]
  },
  {
   "cell_type": "code",
   "execution_count": null,
   "metadata": {},
   "outputs": [],
   "source": [
    "fig.savefig(\"plots/final/spectrum_comparison.pdf\")"
   ]
  }
 ],
 "metadata": {
  "kernelspec": {
   "display_name": "Python 3.10.4 64-bit",
   "language": "python",
   "name": "python3"
  },
  "language_info": {
   "codemirror_mode": {
    "name": "ipython",
    "version": 3
   },
   "file_extension": ".py",
   "mimetype": "text/x-python",
   "name": "python",
   "nbconvert_exporter": "python",
   "pygments_lexer": "ipython3",
   "version": "3.10.4"
  },
  "orig_nbformat": 4,
  "vscode": {
   "interpreter": {
    "hash": "690c7be24fab4b896e6241006c45e576997b24f388f83156a67f10121b6b03e9"
   }
  }
 },
 "nbformat": 4,
 "nbformat_minor": 2
}
