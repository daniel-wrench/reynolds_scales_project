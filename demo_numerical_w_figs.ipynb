{
 "cells": [
  {
   "cell_type": "markdown",
   "metadata": {},
   "source": [
    "## Estimating the correlation scale and Taylor scale\n",
    "*Demonstrating the calculation of numerically-derived variables in the Wind database*\n",
    "\n",
    "As well as raw variables such as electron density and magnetic field strength, and analytically-derived variables such as Alfven speed and ion gyroradius, the *Wind* database contains numerically-derived (\"estimated\") variables. The two parameters we are most interested are the *correlation scale* and *Taylor scale*. Both scales are calculated from the autocorrelation function, and both require some thought as to what technique to use to calculate them.\n",
    "\n",
    "### Notes\n",
    "- The interval used to demonstrate the pipeline is not ideal in that its ACF lacks the desired parabolic shape near the origin and overall exponential shape. However, it is still a useful demonstration given that not all ACFs will have this nice shape.\n",
    "- Scales are returned in units of seconds\n",
    "- For demonstration purposes, `plot=True` arguments in functions assume a solar wind speed of 400km/s. The specific speeds measured for each interval are used in the actual analysis. \n",
    "- We expect slight variation from Kevin's numbers due to using a cadence of 11Hz instead of 10Hz."
   ]
  },
  {
   "cell_type": "code",
   "execution_count": 1,
   "metadata": {},
   "outputs": [],
   "source": [
    "import numpy as np\n",
    "from matplotlib import pyplot as plt\n",
    "import pandas as pd\n",
    "import importlib\n",
    "\n",
    "#import os\n",
    "# while \".toplevel\" not in os.listdir():\n",
    "#     os.chdir(\"..\")\n",
    "\n",
    "import src.utils as utils\n",
    "import src.params as params\n",
    "\n",
    "sys_arg_dict = {\n",
    "    # arg1\n",
    "    \"mag_path\": params.mag_path,\n",
    "    \"omni_path\": params.omni_path,\n",
    "    \"proton_path\": params.proton_path,\n",
    "    \"electron_path\": params.electron_path,\n",
    "\n",
    "    # arg2\n",
    "    \"mag_vars\": [params.timestamp, params.Bwind, params.Bwind_vec],\n",
    "    \"omni_vars\": [params.timestamp, params.vsw, params.p, params.Bomni],\n",
    "    \"proton_vars\": [params.timestamp, params.ni, params.Ti],\n",
    "    \"electron_vars\": [params.timestamp, params.ne, params.Te],\n",
    "\n",
    "    # arg3\n",
    "    \"mag_thresh\": params.mag_thresh,\n",
    "    \"omni_thresh\": params.omni_thresh,\n",
    "    \"proton_thresh\": params.proton_thresh,\n",
    "    \"electron_thresh\": params.electron_thresh,\n",
    "\n",
    "    # arg4\n",
    "    \"dt_hr\": params.dt_hr,\n",
    "    \"int_size\": params.int_size,\n",
    "\n",
    "    # arg5\n",
    "    \"dt_lr\": params.dt_lr\n",
    "}"
   ]
  },
  {
   "cell_type": "code",
   "execution_count": 2,
   "metadata": {},
   "outputs": [],
   "source": [
    "# Set fontsize of plots (check matches utils.py)\n",
    "plt.rcParams.update({'font.size': 9})\n",
    "plt.rc('text', usetex=True)"
   ]
  },
  {
   "cell_type": "code",
   "execution_count": 3,
   "metadata": {},
   "outputs": [
    {
     "data": {
      "text/plain": [
       "<module 'src.utils' from 'c:\\\\Users\\\\spann\\\\Documents\\\\Research\\\\Code repos\\\\reynolds_scales_project\\\\src\\\\utils.py'>"
      ]
     },
     "execution_count": 3,
     "metadata": {},
     "output_type": "execute_result"
    }
   ],
   "source": [
    "importlib.reload(utils)"
   ]
  },
  {
   "attachments": {},
   "cell_type": "markdown",
   "metadata": {},
   "source": [
    "In a bash terminal, run `bash 0_download_files.sh`, followed by `bash 1_get_raw_vars.sh`. (For some reason `%%bash` command in a Jupyter cell isn't working)"
   ]
  },
  {
   "cell_type": "markdown",
   "metadata": {},
   "source": [
    "## Calculating numerically-derived variables"
   ]
  },
  {
   "cell_type": "markdown",
   "metadata": {},
   "source": [
    "### 11Hz data"
   ]
  },
  {
   "cell_type": "code",
   "execution_count": 4,
   "metadata": {},
   "outputs": [],
   "source": [
    "file = \"data/raw/wind/mfi/mfi_h2/2016/wi_h2_mfi_20160102_v05.cdf\"\n",
    "timestamp = \"2016-01-02 12:00:00\""
   ]
  },
  {
   "cell_type": "code",
   "execution_count": 5,
   "metadata": {},
   "outputs": [],
   "source": [
    "df = utils.pipeline(\n",
    "    file,\n",
    "    varlist=sys_arg_dict[\"mag_vars\"],\n",
    "    thresholds=sys_arg_dict[\"mag_thresh\"],\n",
    "    cadence=sys_arg_dict[\"dt_hr\"]\n",
    ")\n",
    "#print(\"Reading {0}: {1:.2f}% missing\".format(file, df.iloc[:,0].isna().sum()/len(df)*100))\n",
    "\n",
    "# Ensuring observations are in chronological order\n",
    "df_wind_hr = df.sort_index()"
   ]
  },
  {
   "cell_type": "code",
   "execution_count": 6,
   "metadata": {},
   "outputs": [
    {
     "data": {
      "text/plain": [
       "(939131, 4)"
      ]
     },
     "execution_count": 6,
     "metadata": {},
     "output_type": "execute_result"
    }
   ],
   "source": [
    "#df_wind_hr = pd.read_pickle(\"data/processed/\" + params.mag_path + params.dt_hr + \".pkl\")\n",
    "df_wind_hr = df_wind_hr.rename(\n",
    "    columns={\n",
    "        params.Bwind:'Bwind',\n",
    "        params.Bx:'Bx',\n",
    "        params.By:'By',\n",
    "        params.Bz:'Bz'})\n",
    "\n",
    "df_wind_hr.shape"
   ]
  },
  {
   "attachments": {},
   "cell_type": "markdown",
   "metadata": {},
   "source": [
    "Extracting a single 12-hour interval to demonstrate the pipeline. *The timestamp \"00:00\" refers to data betweeen 00:00 and 12:00.*"
   ]
  },
  {
   "cell_type": "code",
   "execution_count": 7,
   "metadata": {},
   "outputs": [
    {
     "data": {
      "text/plain": [
       "(469565, 4)"
      ]
     },
     "execution_count": 7,
     "metadata": {},
     "output_type": "execute_result"
    }
   ],
   "source": [
    "int_wind_hr = df_wind_hr[pd.to_datetime(timestamp):pd.to_datetime(timestamp)+pd.to_timedelta(\"12H\")]\n",
    "int_wind_hr.shape"
   ]
  },
  {
   "cell_type": "code",
   "execution_count": 8,
   "metadata": {},
   "outputs": [
    {
     "name": "stdout",
     "output_type": "stream",
     "text": [
      "<class 'pandas.core.frame.DataFrame'>\n",
      "DatetimeIndex: 469565 entries, 2016-01-02 12:00:00.072000 to 2016-01-02 23:59:59.960000\n",
      "Freq: 92L\n",
      "Data columns (total 4 columns):\n",
      " #   Column  Non-Null Count   Dtype  \n",
      "---  ------  --------------   -----  \n",
      " 0   Bwind   459891 non-null  float32\n",
      " 1   Bx      459891 non-null  float32\n",
      " 2   By      459891 non-null  float32\n",
      " 3   Bz      459891 non-null  float32\n",
      "dtypes: float32(4)\n",
      "memory usage: 10.7 MB\n"
     ]
    }
   ],
   "source": [
    "int_wind_hr.info()"
   ]
  },
  {
   "cell_type": "code",
   "execution_count": 9,
   "metadata": {},
   "outputs": [
    {
     "data": {
      "text/plain": [
       "Bwind    9674\n",
       "Bx       9674\n",
       "By       9674\n",
       "Bz       9674\n",
       "dtype: int64"
      ]
     },
     "execution_count": 9,
     "metadata": {},
     "output_type": "execute_result"
    }
   ],
   "source": [
    "int_wind_hr.isna().sum()"
   ]
  },
  {
   "cell_type": "markdown",
   "metadata": {},
   "source": [
    "### 0.2Hz data"
   ]
  },
  {
   "cell_type": "code",
   "execution_count": 10,
   "metadata": {},
   "outputs": [
    {
     "data": {
      "text/plain": [
       "(17280, 4)"
      ]
     },
     "execution_count": 10,
     "metadata": {},
     "output_type": "execute_result"
    }
   ],
   "source": [
    "#df_wind_lr = pd.read_pickle(\"data/processed/\" + params.mag_path + params.dt_lr + \".pkl\")\n",
    "# df_wind_lr = df_wind_lr.rename(\n",
    "#     columns={\n",
    "#         params.Bwind:'Bwind',\n",
    "#         params.Bx:'Bx',\n",
    "#         params.By:'By',\n",
    "#         params.Bz:'Bz'})\n",
    "\n",
    "df_wind_lr = df_wind_hr.resample(\"5S\").mean()\n",
    "df_wind_lr.shape"
   ]
  },
  {
   "cell_type": "markdown",
   "metadata": {},
   "source": [
    "Extracting a single 12-hour interval to demonstrate the pipeline"
   ]
  },
  {
   "cell_type": "code",
   "execution_count": 11,
   "metadata": {},
   "outputs": [
    {
     "data": {
      "text/plain": [
       "(8640, 4)"
      ]
     },
     "execution_count": 11,
     "metadata": {},
     "output_type": "execute_result"
    }
   ],
   "source": [
    "int_wind_lr = df_wind_lr[pd.to_datetime(timestamp):pd.to_datetime(timestamp)+pd.to_timedelta(\"12H\")]\n",
    "int_wind_lr.shape"
   ]
  },
  {
   "cell_type": "code",
   "execution_count": 12,
   "metadata": {},
   "outputs": [
    {
     "data": {
      "image/png": "[encoded data removed]",
      "text/plain": [
       "<Figure size 432x288 with 4 Axes>"
      ]
     },
     "metadata": {
      "needs_background": "light"
     },
     "output_type": "display_data"
    }
   ],
   "source": [
    "int_wind_lr.plot(subplots=True)\n",
    "plt.show()"
   ]
  },
  {
   "cell_type": "code",
   "execution_count": 13,
   "metadata": {},
   "outputs": [
    {
     "name": "stdout",
     "output_type": "stream",
     "text": [
      "0.020602046575021564\n"
     ]
    }
   ],
   "source": [
    "missing =  int_wind_hr.iloc[:,0].isna().sum()/len(int_wind_hr)\n",
    "print(missing)\n",
    "\n",
    "if missing > 0.4:\n",
    "    # Replacing values in lists with na\n",
    "    print(\"Large missing %\")\n",
    "else:\n",
    "    int_wind_hr = int_wind_hr.interpolate().ffill().bfill()\n",
    "    int_wind_lr = int_wind_lr.interpolate().ffill().bfill()"
   ]
  },
  {
   "cell_type": "code",
   "execution_count": 14,
   "metadata": {},
   "outputs": [
    {
     "data": {
      "text/plain": [
       "Bwind    0\n",
       "Bx       0\n",
       "By       0\n",
       "Bz       0\n",
       "dtype: int64"
      ]
     },
     "execution_count": 14,
     "metadata": {},
     "output_type": "execute_result"
    }
   ],
   "source": [
    "int_wind_hr.isna().sum()"
   ]
  },
  {
   "cell_type": "code",
   "execution_count": 15,
   "metadata": {},
   "outputs": [
    {
     "data": {
      "text/plain": [
       "Bwind    0\n",
       "Bx       0\n",
       "By       0\n",
       "Bz       0\n",
       "dtype: int64"
      ]
     },
     "execution_count": 15,
     "metadata": {},
     "output_type": "execute_result"
    }
   ],
   "source": [
    "int_wind_lr.isna().sum()"
   ]
  },
  {
   "cell_type": "code",
   "execution_count": 16,
   "metadata": {},
   "outputs": [],
   "source": [
    "# Takes ~ 5min\n",
    "\n",
    "#int_wind_hr.plot(subplots=True)\n",
    "#plt.show()"
   ]
  },
  {
   "cell_type": "markdown",
   "metadata": {},
   "source": [
    "In order to fully implement Chuychai's method, we need the spectral index (slope) of the power law in the dissipation range. Here we compute a smoothed 3D periodogram for a single high-res interval, then perform a least squares fit of a power law to the inertial and kinetic ranges to determine their slopes and the spectral break."
   ]
  },
  {
   "cell_type": "markdown",
   "metadata": {},
   "source": [
    "**Maths for calculating breakpoint:**\n",
    "\n",
    "Each power-law fit is given by the following equation:\n",
    "\n",
    "$$y =x^me^c$$\n",
    "\n",
    "This is because if we take the log of both sides, we get the formula for a straight line on a log-log plot:\n",
    "\n",
    "$$\\log(y) = m\\log(x)+c$$\n",
    "\n",
    "We want to find the x-value for which the two power-laws are equal. We can do this by subtracting one from the other and finding the value of $\\log(x)$ where this subtraction = 0, i.e., the root of the equation.\n",
    "\n",
    "$$m_1\\log(x)+c_1-m_2\\log(x)-c_2=0$$\n",
    "\n",
    "Finally, we take the exponential of this root to get the x-value of the spectral break\n",
    "\n",
    "$$x = e^{\\log(x)}$$"
   ]
  },
  {
   "cell_type": "code",
   "execution_count": 17,
   "metadata": {},
   "outputs": [],
   "source": [
    "# Reading in dataframe to get values for qi, di, etc.\n",
    "df_wind = pd.read_csv(\"wind_omni_dataset.csv\", index_col=\"Timestamp\")\n",
    "df_wind.index = pd.to_datetime(df_wind.index)"
   ]
  },
  {
   "cell_type": "code",
   "execution_count": 18,
   "metadata": {},
   "outputs": [
    {
     "data": {
      "text/html": [
       "<div>\n",
       "<style scoped>\n",
       "    .dataframe tbody tr th:only-of-type {\n",
       "        vertical-align: middle;\n",
       "    }\n",
       "\n",
       "    .dataframe tbody tr th {\n",
       "        vertical-align: top;\n",
       "    }\n",
       "\n",
       "    .dataframe thead th {\n",
       "        text-align: right;\n",
       "    }\n",
       "</style>\n",
       "<table border=\"1\" class=\"dataframe\">\n",
       "  <thead>\n",
       "    <tr style=\"text-align: right;\">\n",
       "      <th></th>\n",
       "      <th>Re_lt</th>\n",
       "      <th>Re_tb</th>\n",
       "      <th>Re_di</th>\n",
       "    </tr>\n",
       "  </thead>\n",
       "  <tbody>\n",
       "    <tr>\n",
       "      <th>count</th>\n",
       "      <td>1.950600e+04</td>\n",
       "      <td>1.820600e+04</td>\n",
       "      <td>1.907700e+04</td>\n",
       "    </tr>\n",
       "    <tr>\n",
       "      <th>mean</th>\n",
       "      <td>4.522910e+06</td>\n",
       "      <td>6.614888e+04</td>\n",
       "      <td>1.940325e+05</td>\n",
       "    </tr>\n",
       "    <tr>\n",
       "      <th>std</th>\n",
       "      <td>2.918859e+08</td>\n",
       "      <td>1.023698e+05</td>\n",
       "      <td>2.095532e+05</td>\n",
       "    </tr>\n",
       "    <tr>\n",
       "      <th>min</th>\n",
       "      <td>2.977838e+02</td>\n",
       "      <td>1.738250e-01</td>\n",
       "      <td>4.041764e+02</td>\n",
       "    </tr>\n",
       "    <tr>\n",
       "      <th>25%</th>\n",
       "      <td>3.014250e+04</td>\n",
       "      <td>1.600254e+04</td>\n",
       "      <td>7.041514e+04</td>\n",
       "    </tr>\n",
       "    <tr>\n",
       "      <th>50%</th>\n",
       "      <td>6.815865e+04</td>\n",
       "      <td>3.462614e+04</td>\n",
       "      <td>1.291935e+05</td>\n",
       "    </tr>\n",
       "    <tr>\n",
       "      <th>75%</th>\n",
       "      <td>1.636965e+05</td>\n",
       "      <td>7.389633e+04</td>\n",
       "      <td>2.397069e+05</td>\n",
       "    </tr>\n",
       "    <tr>\n",
       "      <th>max</th>\n",
       "      <td>3.434170e+10</td>\n",
       "      <td>1.838851e+06</td>\n",
       "      <td>2.886971e+06</td>\n",
       "    </tr>\n",
       "  </tbody>\n",
       "</table>\n",
       "</div>"
      ],
      "text/plain": [
       "              Re_lt         Re_tb         Re_di\n",
       "count  1.950600e+04  1.820600e+04  1.907700e+04\n",
       "mean   4.522910e+06  6.614888e+04  1.940325e+05\n",
       "std    2.918859e+08  1.023698e+05  2.095532e+05\n",
       "min    2.977838e+02  1.738250e-01  4.041764e+02\n",
       "25%    3.014250e+04  1.600254e+04  7.041514e+04\n",
       "50%    6.815865e+04  3.462614e+04  1.291935e+05\n",
       "75%    1.636965e+05  7.389633e+04  2.397069e+05\n",
       "max    3.434170e+10  1.838851e+06  2.886971e+06"
      ]
     },
     "execution_count": 18,
     "metadata": {},
     "output_type": "execute_result"
    }
   ],
   "source": [
    "df_wind[['Re_lt', 'Re_tb', 'Re_di']].describe()"
   ]
  },
  {
   "cell_type": "code",
   "execution_count": 19,
   "metadata": {},
   "outputs": [
    {
     "data": {
      "text/html": [
       "<div>\n",
       "<style scoped>\n",
       "    .dataframe tbody tr th:only-of-type {\n",
       "        vertical-align: middle;\n",
       "    }\n",
       "\n",
       "    .dataframe tbody tr th {\n",
       "        vertical-align: top;\n",
       "    }\n",
       "\n",
       "    .dataframe thead th {\n",
       "        text-align: right;\n",
       "    }\n",
       "</style>\n",
       "<table border=\"1\" class=\"dataframe\">\n",
       "  <thead>\n",
       "    <tr style=\"text-align: right;\">\n",
       "      <th></th>\n",
       "      <th>Re_lt</th>\n",
       "      <th>Re_tb</th>\n",
       "      <th>Re_di</th>\n",
       "    </tr>\n",
       "  </thead>\n",
       "  <tbody>\n",
       "    <tr>\n",
       "      <th>Re_lt</th>\n",
       "      <td>1.000000</td>\n",
       "      <td>0.030674</td>\n",
       "      <td>0.008356</td>\n",
       "    </tr>\n",
       "    <tr>\n",
       "      <th>Re_tb</th>\n",
       "      <td>0.030674</td>\n",
       "      <td>1.000000</td>\n",
       "      <td>0.692389</td>\n",
       "    </tr>\n",
       "    <tr>\n",
       "      <th>Re_di</th>\n",
       "      <td>0.008356</td>\n",
       "      <td>0.692389</td>\n",
       "      <td>1.000000</td>\n",
       "    </tr>\n",
       "  </tbody>\n",
       "</table>\n",
       "</div>"
      ],
      "text/plain": [
       "          Re_lt     Re_tb     Re_di\n",
       "Re_lt  1.000000  0.030674  0.008356\n",
       "Re_tb  0.030674  1.000000  0.692389\n",
       "Re_di  0.008356  0.692389  1.000000"
      ]
     },
     "execution_count": 19,
     "metadata": {},
     "output_type": "execute_result"
    }
   ],
   "source": [
    "df_wind[['Re_lt', 'Re_tb', 'Re_di']].corr('pearson')"
   ]
  },
  {
   "cell_type": "code",
   "execution_count": 20,
   "metadata": {},
   "outputs": [
    {
     "data": {
      "text/html": [
       "<div>\n",
       "<style scoped>\n",
       "    .dataframe tbody tr th:only-of-type {\n",
       "        vertical-align: middle;\n",
       "    }\n",
       "\n",
       "    .dataframe tbody tr th {\n",
       "        vertical-align: top;\n",
       "    }\n",
       "\n",
       "    .dataframe thead th {\n",
       "        text-align: right;\n",
       "    }\n",
       "</style>\n",
       "<table border=\"1\" class=\"dataframe\">\n",
       "  <thead>\n",
       "    <tr style=\"text-align: right;\">\n",
       "      <th></th>\n",
       "      <th>Re_lt</th>\n",
       "      <th>Re_tb</th>\n",
       "      <th>Re_di</th>\n",
       "    </tr>\n",
       "  </thead>\n",
       "  <tbody>\n",
       "    <tr>\n",
       "      <th>Re_lt</th>\n",
       "      <td>1.000000</td>\n",
       "      <td>0.459801</td>\n",
       "      <td>0.663462</td>\n",
       "    </tr>\n",
       "    <tr>\n",
       "      <th>Re_tb</th>\n",
       "      <td>0.459801</td>\n",
       "      <td>1.000000</td>\n",
       "      <td>0.689848</td>\n",
       "    </tr>\n",
       "    <tr>\n",
       "      <th>Re_di</th>\n",
       "      <td>0.663462</td>\n",
       "      <td>0.689848</td>\n",
       "      <td>1.000000</td>\n",
       "    </tr>\n",
       "  </tbody>\n",
       "</table>\n",
       "</div>"
      ],
      "text/plain": [
       "          Re_lt     Re_tb     Re_di\n",
       "Re_lt  1.000000  0.459801  0.663462\n",
       "Re_tb  0.459801  1.000000  0.689848\n",
       "Re_di  0.663462  0.689848  1.000000"
      ]
     },
     "execution_count": 20,
     "metadata": {},
     "output_type": "execute_result"
    }
   ],
   "source": [
    "df_wind[['Re_lt', 'Re_tb', 'Re_di']].corr('spearman')"
   ]
  },
  {
   "cell_type": "code",
   "execution_count": 21,
   "metadata": {},
   "outputs": [
    {
     "data": {
      "text/plain": [
       "<module 'src.params' from 'c:\\\\Users\\\\spann\\\\Documents\\\\Research\\\\Code repos\\\\reynolds_scales_project\\\\src\\\\params.py'>"
      ]
     },
     "execution_count": 21,
     "metadata": {},
     "output_type": "execute_result"
    }
   ],
   "source": [
    "importlib.reload(utils)\n",
    "importlib.reload(params)"
   ]
  },
  {
   "attachments": {},
   "cell_type": "markdown",
   "metadata": {},
   "source": [
    "The following requires specification of the inertial and kinetic ranges. I have used the values used previously in the literature for Wind spectral analysis. Sometimes we cannot get a good intersection between the two for a spectral break."
   ]
  },
  {
   "cell_type": "code",
   "execution_count": 22,
   "metadata": {},
   "outputs": [
    {
     "data": {
      "text/plain": [
       "<module 'src.utils' from 'c:\\\\Users\\\\spann\\\\Documents\\\\Research\\\\Code repos\\\\reynolds_scales_project\\\\src\\\\utils.py'>"
      ]
     },
     "execution_count": 22,
     "metadata": {},
     "output_type": "execute_result"
    }
   ],
   "source": [
    "importlib.reload(utils)"
   ]
  },
  {
   "cell_type": "code",
   "execution_count": 23,
   "metadata": {},
   "outputs": [
    {
     "data": {
      "text/plain": [
       "(-1.740423114261999, -3.026077172159704, 0.20382611339664775)"
      ]
     },
     "execution_count": 23,
     "metadata": {},
     "output_type": "execute_result"
    },
    {
     "data": {
      "image/png": "[encoded data removed]",
      "text/plain": [
       "<Figure size 237.6x144 with 1 Axes>"
      ]
     },
     "metadata": {
      "needs_background": "light"
     },
     "output_type": "display_data"
    }
   ],
   "source": [
    "z_i, z_k, spectral_break, fig, ax, f_periodogram, p_smooth = utils.compute_spectral_stats(\n",
    "    np.array([int_wind_hr.Bx, int_wind_hr.By, int_wind_hr.Bz]), \n",
    "    dt=float(params.dt_hr[:-1]),\n",
    "    f_min_inertial=params.f_min_inertial, f_max_inertial=params.f_max_inertial,\n",
    "    f_min_kinetic=params.f_min_kinetic, f_max_kinetic=params.f_max_kinetic,\n",
    "    di = df_wind.loc[timestamp, \"di\"],\n",
    "    velocity = df_wind.loc[timestamp, \"vsw\"],\n",
    "    plot=True)\n",
    "\n",
    "z_i, z_k, spectral_break"
   ]
  },
  {
   "cell_type": "code",
   "execution_count": 24,
   "metadata": {},
   "outputs": [],
   "source": [
    "fig.savefig(\"plots/final/spectrum.pdf\")"
   ]
  },
  {
   "cell_type": "markdown",
   "metadata": {},
   "source": [
    "Additional figure with power spectra shifted up and down, demonstrating how Taylor scale captures different energies, unlike other Re formulations. **This has since been updated to use actual intervals with different energies (measured by $db$) - this new plotting is at the end of this notebook**.\n"
   ]
  },
  {
   "cell_type": "code",
   "execution_count": 25,
   "metadata": {},
   "outputs": [
    {
     "data": {
      "text/plain": [
       "[]"
      ]
     },
     "execution_count": 25,
     "metadata": {},
     "output_type": "execute_result"
    },
    {
     "data": {
      "image/png": "[encoded data removed]",
      "text/plain": [
       "<Figure size 237.6x144 with 1 Axes>"
      ]
     },
     "metadata": {},
     "output_type": "display_data"
    }
   ],
   "source": [
    "fig, ax = plt.subplots(figsize = (3.3,2))\n",
    "ax.set_ylim(1e-6, 1e8)\n",
    "ax.set_xlim(1e-5, 5)\n",
    "\n",
    "ax.semilogy(f_periodogram, p_smooth, color = \"black\")\n",
    "ax.semilogy(f_periodogram, p_smooth*100, ls = '--', color = \"gray\")\n",
    "ax.semilogy(f_periodogram, p_smooth/100, ls = 'dotted', color = \"gray\")\n",
    "ax.semilogx()\n",
    "ax.set_xlabel(\"$\\log(k)$\")\n",
    "ax.set_ylabel(\"$\\log(E(k))$\")\n",
    "ax.axvline(3e-4, label = \"$\\lambda_C$\", color='black', alpha = 0.6)\n",
    "ax.axvline(5e-1, label = \"$\\lambda_d$\", color='black', alpha = 0.6)\n",
    "ax.text(4e-4, 1e-5, \"$\\lambda_C$\")\n",
    "ax.text(2e-1, 1e-5, \"$d_i$\")\n",
    "ax.set_xticks([])\n",
    "ax.set_xticks([], minor=True)\n",
    "ax.set_yticks([])"
   ]
  },
  {
   "cell_type": "code",
   "execution_count": 26,
   "metadata": {},
   "outputs": [],
   "source": [
    "# fig.savefig(\"plots/final/spectra_shifted.pdf\")"
   ]
  },
  {
   "cell_type": "markdown",
   "metadata": {},
   "source": [
    "- $\\alpha_{i}=-1.66$\n",
    "- $\\alpha_{k}=-2.4$\n",
    "- $f_d=0.26$ Hz (dissipation scale)\n",
    "- $\\tau_d=1/f_d=1/0.26=3.8$\n",
    "\n",
    "Chuychai et al. recommend that the resolution of the data be at least as good as $\\Delta t <0.4\\tau_d$. We later find the mean value of $\\tau_d$ to be $1/0.25=4$. Using this value, we see our resolution is sufficient:\n",
    "\n",
    "- $1/11 = 0.091$\n",
    "- $0.4\\times4=1.6$\n",
    "- $0.091 < 1.6$\n",
    "\n",
    "<u>We need to justify the frequency bounds we have specified for fitting the power law slopes.</u>\n",
    "See e.g. *The kinetic range is usually above the spacecraft frame frequency corresponding to the proton inertial length, $f_{pi}=v_{SW}/(2\\pi\\lambda_{pi}$)* (from Pitna et al. (2021), quantities plotted as vertical lines above)."
   ]
  },
  {
   "cell_type": "markdown",
   "metadata": {},
   "source": [
    "### ACF function\n",
    "\n",
    "This is what we use to calculate the correlation scale and Taylor scale. Note that Chuychai et al. did not calculate the ACF directly from the data; they calculated it from the second-order structure function. Here, we will calculate it directly from the data.\n",
    "\n",
    "The following function is based off Kevin's `compute_corr.compute_correlation_time_scale.compute_autocorrelation_function()`. It automatically detects whether being fed 1D (scalar) or 3D time series, for which the calculation is as follows:\n",
    "\n",
    "$$R(\\tau)=\\frac{1}{3}\\times(R_{xx}(\\tau)+R_{yy}(\\tau)+R_{zz}(\\tau))$$"
   ]
  },
  {
   "cell_type": "markdown",
   "metadata": {},
   "source": [
    "The following low-cadence, high $r$ ACF will be used for calculating the outer scale."
   ]
  },
  {
   "cell_type": "code",
   "execution_count": 27,
   "metadata": {},
   "outputs": [
    {
     "data": {
      "text/plain": [
       "<module 'src.utils' from 'c:\\\\Users\\\\spann\\\\Documents\\\\Research\\\\Code repos\\\\reynolds_scales_project\\\\src\\\\utils.py'>"
      ]
     },
     "execution_count": 27,
     "metadata": {},
     "output_type": "execute_result"
    }
   ],
   "source": [
    "importlib.reload(utils)"
   ]
  },
  {
   "cell_type": "code",
   "execution_count": 28,
   "metadata": {},
   "outputs": [
    {
     "data": {
      "image/png": "[encoded data removed]",
      "text/plain": [
       "<Figure size 432x288 with 1 Axes>"
      ]
     },
     "metadata": {
      "needs_background": "light"
     },
     "output_type": "display_data"
    }
   ],
   "source": [
    "time_lags_lr, r_vec_lr = utils.compute_nd_acf(\n",
    "    np.array(\n",
    "        [int_wind_lr.Bx, int_wind_lr.By, int_wind_lr.Bz]), \n",
    "        nlags=params.nlags_lr, \n",
    "        dt=float(params.dt_lr[:-1]), # Removing \"S\" from end \n",
    "        plot=True\n",
    "    )"
   ]
  },
  {
   "cell_type": "markdown",
   "metadata": {},
   "source": [
    "The following high-cadence, low $r$ ACF will be used for calculating the Taylor scale."
   ]
  },
  {
   "cell_type": "code",
   "execution_count": 29,
   "metadata": {},
   "outputs": [
    {
     "data": {
      "image/png": "[encoded data removed]",
      "text/plain": [
       "<Figure size 432x288 with 1 Axes>"
      ]
     },
     "metadata": {
      "needs_background": "light"
     },
     "output_type": "display_data"
    }
   ],
   "source": [
    "time_lags_hr, r_vec_hr = utils.compute_nd_acf(\n",
    "    np.array([\n",
    "            int_wind_hr.Bx, \n",
    "            int_wind_hr.By, \n",
    "            int_wind_hr.Bz\n",
    "            ]), \n",
    "        nlags=params.nlags_hr, \n",
    "        dt = float(params.dt_hr[:-1]), # Removing unit \"S\" from end \n",
    "        plot = True)"
   ]
  },
  {
   "cell_type": "markdown",
   "metadata": {},
   "source": [
    "### Correlation scale functions\n",
    "\n",
    "Names for $\\tau_c$:\n",
    "- Outer scale\n",
    "- (Longitudinal) integral scale\n",
    "- Correlation scale\n",
    "\n",
    "Methods for calculating:\n",
    "- 1/e trick\n",
    "- Exponential fit\n",
    "- Integration\n",
    "\n",
    "Smith et al. (2001) used the 1/e trick method (which they call $e$-folding) and the integration method. In Appendix B of their paper, they show how the estimates by either method increase depending on the lag up to which you calculate the ACF."
   ]
  },
  {
   "cell_type": "markdown",
   "metadata": {},
   "source": [
    "Firstly, using Kevin's function (just with plotting functionality added) for computing outer scale using $1/e$ trick:\n",
    "\n",
    "**If we set $f(\\tau)=\\exp(-\\tau/\\tau_c)=e^{-1}$, then $\\tau_c=\\tau$.**\n",
    "\n",
    "Kevin referred to the value calculated from this method in his analysis as `estimate` and `Correlation_timescale_est`."
   ]
  },
  {
   "cell_type": "code",
   "execution_count": 30,
   "metadata": {},
   "outputs": [
    {
     "data": {
      "text/plain": [
       "<module 'src.utils' from 'c:\\\\Users\\\\spann\\\\Documents\\\\Research\\\\Code repos\\\\reynolds_scales_project\\\\src\\\\utils.py'>"
      ]
     },
     "execution_count": 30,
     "metadata": {},
     "output_type": "execute_result"
    }
   ],
   "source": [
    "importlib.reload(utils)"
   ]
  },
  {
   "cell_type": "code",
   "execution_count": 31,
   "metadata": {},
   "outputs": [
    {
     "data": {
      "text/plain": [
       "1129.727"
      ]
     },
     "execution_count": 31,
     "metadata": {},
     "output_type": "execute_result"
    },
    {
     "data": {
      "image/png": "[encoded data removed]",
      "text/plain": [
       "<Figure size 237.6x180 with 1 Axes>"
      ]
     },
     "metadata": {
      "needs_background": "light"
     },
     "output_type": "display_data"
    }
   ],
   "source": [
    "tce, fig, ax = utils.compute_outer_scale_exp_trick(time_lags_lr, r_vec_lr, plot = True)\n",
    "tce"
   ]
  },
  {
   "cell_type": "markdown",
   "metadata": {},
   "source": [
    "What values should we expect? The lit review spreadsheet shows values in the range of $\\lambda_C=$ 320,000 - 1,200,000km.\n",
    "\n",
    "Secondly, adapting Kevin's function for computing outer scale using exponential fit, from `compute_correlation_time_scale()`. A function of the following form is fit to the ACF $R(\\tau)$.\n",
    "\n",
    "$$f(\\tau)=\\exp(-\\tau/\\tau_c)$$\n",
    "\n",
    "\n",
    "Kevin referred to the value calculated from this method as `lambda_c` and `Correlation_timescale`.\n",
    "\n",
    "<u>How to choose how much of the ACF to fit to?</u> Kevin used 1000 seconds, which was decided \"through some trial and error and inspection of plotted results\". While we should keep in mind that the correlation length will tend to increase with the maximum lag we fit to, I think we should fit to much more than 1000 seconds, as in the literature we see typical fits to 1-3,000,000km, corresponding to 2500-7500 seconds or 500-1500 lags. **We are now fitting to 2 times the correlation timescale, as estimated by the 1/e method.**"
   ]
  },
  {
   "cell_type": "markdown",
   "metadata": {},
   "source": [
    "**Fit to 2 * 1/e estimate**"
   ]
  },
  {
   "cell_type": "code",
   "execution_count": 32,
   "metadata": {},
   "outputs": [
    {
     "data": {
      "text/plain": [
       "1085.4295087027403"
      ]
     },
     "execution_count": 32,
     "metadata": {},
     "output_type": "execute_result"
    }
   ],
   "source": [
    "tcf, fig, ax = utils.compute_outer_scale_exp_fit(time_lags=time_lags_lr, acf=r_vec_lr, seconds_to_fit=np.round(2*tce), fig = fig, ax = ax, plot = True)\n",
    "tcf"
   ]
  },
  {
   "cell_type": "markdown",
   "metadata": {},
   "source": [
    "Finally, creating a function for computing outer scale as integral of the ACF. This formula comes from the re-arrangement of the simple exponential that a time series follows if it approximates a Markov process (Batchelor, 1970). \n",
    "\n",
    "$$\\tau_C=\\int_0^\\infty R(\\tau)d\\tau$$"
   ]
  },
  {
   "cell_type": "code",
   "execution_count": 33,
   "metadata": {},
   "outputs": [
    {
     "data": {
      "text/plain": [
       "1380.5474687085905"
      ]
     },
     "execution_count": 33,
     "metadata": {},
     "output_type": "execute_result"
    }
   ],
   "source": [
    "tci, fig, ax = utils.compute_outer_scale_integral(time_lags_lr, r_vec_lr, fig=fig, ax=ax, plot = True)\n",
    "tci"
   ]
  },
  {
   "cell_type": "code",
   "execution_count": 34,
   "metadata": {},
   "outputs": [
    {
     "data": {
      "image/png": "[encoded data removed]",
      "text/plain": [
       "<Figure size 237.6x180 with 1 Axes>"
      ]
     },
     "execution_count": 34,
     "metadata": {},
     "output_type": "execute_result"
    }
   ],
   "source": [
    "fig"
   ]
  },
  {
   "cell_type": "code",
   "execution_count": 35,
   "metadata": {},
   "outputs": [],
   "source": [
    "fig.savefig('plots/final/corr_scale_methods.pdf')"
   ]
  },
  {
   "attachments": {
    "image-2.png": {
     "image/png": "[encoded data removed]"
    },
    "image.png": {
     "image/png": "[encoded data removed]"
    }
   },
   "cell_type": "markdown",
   "metadata": {},
   "source": [
    "Isaacs et al. (2015) looked at the effect of **interval size** on the estimate of the correlation length, using data from ACE and comparing against the \"true\", multi-spacecraft value. The plots below line up quite well with the values calculated from our 6-hour intervals. In the accompanying discussion on pg10 of the paper, they state \"averaging intervals of 10-20 hours appear to have a special significance with regard to computation of correlation scales.\"\n",
    "\n",
    "\n",
    "![image.png](attachment:image.png)\n",
    "\n",
    "![image.png](attachment:image-2.png)"
   ]
  },
  {
   "cell_type": "markdown",
   "metadata": {},
   "source": [
    "### Taylor scale function\n",
    "\n",
    "Taylor microscale (time domain) = $\\tau_{TS}$ = radius of curvature of ACF at the origin. \n",
    "\n",
    "Can calculate using second derivative of the ACF at the origin, but this is not commonly done as it is very sensitive to behaviour at the origin. Here we use the parabolic fit method. This code is adapted from Kevin's `compute_taylor_time_scale()`.\n",
    "\n",
    "Previously this function took the number of seconds to fit the parabola over as the input, and then converted this to the number of lags. (This was chosen to be 2 seconds = 20 lags.) In line with Chuychai's method, this function now takes the number of lags `tau_fit` as input directly."
   ]
  },
  {
   "cell_type": "code",
   "execution_count": 36,
   "metadata": {},
   "outputs": [
    {
     "data": {
      "text/plain": [
       "<module 'src.utils' from 'c:\\\\Users\\\\spann\\\\Documents\\\\Research\\\\Code repos\\\\reynolds_scales_project\\\\src\\\\utils.py'>"
      ]
     },
     "execution_count": 36,
     "metadata": {},
     "output_type": "execute_result"
    }
   ],
   "source": [
    "importlib.reload(utils)"
   ]
  },
  {
   "cell_type": "code",
   "execution_count": 37,
   "metadata": {},
   "outputs": [
    {
     "name": "stderr",
     "output_type": "stream",
     "text": [
      "c:\\Users\\spann\\Documents\\Research\\Code repos\\reynolds_scales_project\\src\\utils.py:520: UserWarning: color is redundantly defined by the 'color' keyword argument and the fmt string \"-y\" (-> color='y'). The keyword argument will take precedence.\n",
      "  ax[0].plot(\n"
     ]
    },
    {
     "data": {
      "text/plain": [
       "15.771723433957858"
      ]
     },
     "execution_count": 37,
     "metadata": {},
     "output_type": "execute_result"
    },
    {
     "data": {
      "image/png": "[encoded data removed]",
      "text/plain": [
       "<Figure size 237.6x288 with 2 Axes>"
      ]
     },
     "metadata": {
      "needs_background": "light"
     },
     "output_type": "display_data"
    }
   ],
   "source": [
    "lambda_t, fig, ax = utils.compute_taylor_scale(time_lags_hr, r_vec_hr, tau_fit=15, plot = True, show_intercept=False)\n",
    "lambda_t\n",
    "# Set show_intercept = True if you want piece of mind that the value returned is actually the x-intercept"
   ]
  },
  {
   "attachments": {},
   "cell_type": "markdown",
   "metadata": {},
   "source": [
    "#### Chuychai (Richardson) extrapolation method\n",
    "\n",
    "We can't just use the above function for some very small lag close to the origin, because as noted by Chuychai et al., \"it is not practical to compute this limit because the data has a finite time resolution and there may be limited data available at the shortest time lags\". Therefore, we can calculate the Taylor scale from a parabolic fit for a *range* of values of $\\tau_{fit}$, up to $\\tau_{max}$. Plot these values as a function of $\\tau_{fit}$, then draw a straight line through the points back to $\\tau_{fit}=0$. \n",
    "\n",
    "See lit review spreadsheet for ranges of $\\tau_{fit}$ in other studies.\n",
    "\n",
    "Chuychai's notation:\n",
    "- $\\tau_{fit}$: parabola is fitted from $\\tau=0$ to $\\tau=\\tau_{fit}$\n",
    "- $\\tau_{TS}^{est}(\\tau_{fit})$ = estimate of $\\tau_{TS}$ for a given value of $\\tau_{fit}$\n",
    "- $\\tau_{TS}^{extra}$: estimate obtained by the extrapolation method\n",
    "- $\\tau_{TS}$: final estimate after applying correction factor\n",
    "- $q$ = dissipation scale index\n",
    "- $\\tau_{d}$ = Kolmogorov scale (time domain) - point where the inertial range terminates and the spectrum steepens\n",
    "\n",
    "<u>How do we choose the upper value, $\\tau_{max}$?</u> This is investigated in Fig. 5 of Chuychai. Weygand et al. (2007) show an example of reaching a stable estimate as $\\tau_{max}$ increases, but Chuychai shows that this is dependent on the spectral index. In particular, they note that we are more likely to reach a stable estimate of $\\lambda_{TS}$ after extrapolation when we have a steep spectral index $q$ in the dissipation range. A smaller $q$ means we do not obtain a stable estimate.\n",
    "\n",
    "**Here we have decided to set $\\tau_{min}$ = 10 lags $\\approx 1s $ and $\\tau_{max}$= 50 lags $\\approx 5s$.** This is roughly in line with what Chuychai & Matthaeus did for ACE data, while reducing $\\tau_{max}$ due to understanding that we will not get convergence with increasing $\\tau_{max}$ due to the relatively shallow values of $q$. This also matches their recommendation that a good estimate is obtained by an extrapolation of the curves evaluated near $\\tau_{max}=\\tau_d=4s$.\n",
    "\n",
    "Chuychai et al. then developed an additional correction factor \"which can be used when estimates of the [slope of the] high-frequency spectrum of the signal are available in some way, whether it be observations, theory, or an informed guess\". The equation for this final estimate is given in Eq. 10 of the paper, and is coded into the following function."
   ]
  },
  {
   "cell_type": "markdown",
   "metadata": {},
   "source": [
    "We can compare the following to Fig. 4 in Chuychai, and less directly to Figs. 5 and 7 in Weygand et al. (2007)"
   ]
  },
  {
   "cell_type": "code",
   "execution_count": 38,
   "metadata": {},
   "outputs": [
    {
     "data": {
      "text/plain": [
       "10.620638938079269"
      ]
     },
     "execution_count": 38,
     "metadata": {},
     "output_type": "execute_result"
    }
   ],
   "source": [
    "# Not applying Chuychai correction factor\n",
    "ts_est_extra, ts_est_extra_std = utils.compute_taylor_chuychai(\n",
    "    time_lags_hr, \n",
    "    r_vec_hr, \n",
    "    tau_min=params.tau_min, \n",
    "    tau_max=params.tau_max)\n",
    "ts_est_extra"
   ]
  },
  {
   "cell_type": "code",
   "execution_count": 39,
   "metadata": {},
   "outputs": [
    {
     "name": "stdout",
     "output_type": "stream",
     "text": [
      "8.894755491712326 0.04590859183048431\n"
     ]
    }
   ],
   "source": [
    "# Applying Chuychai correction factor\n",
    "ts_est, ts_est_std, fig, ax = utils.compute_taylor_chuychai(\n",
    "    time_lags_hr, \n",
    "    r_vec_hr, \n",
    "    tau_min=params.tau_min, \n",
    "    tau_max=params.tau_max, \n",
    "    q = df_wind.loc[timestamp, \"qk\"], \n",
    "    fig=fig,\n",
    "    ax=ax)\n",
    "print(ts_est, ts_est_std)"
   ]
  },
  {
   "cell_type": "code",
   "execution_count": 40,
   "metadata": {},
   "outputs": [
    {
     "data": {
      "image/png": "[encoded data removed]",
      "text/plain": [
       "<Figure size 237.6x288 with 2 Axes>"
      ]
     },
     "execution_count": 40,
     "metadata": {},
     "output_type": "execute_result"
    }
   ],
   "source": [
    "fig"
   ]
  },
  {
   "cell_type": "code",
   "execution_count": 41,
   "metadata": {},
   "outputs": [],
   "source": [
    "fig.savefig(\"plots/final/taylor_scale_methods.pdf\")"
   ]
  },
  {
   "cell_type": "code",
   "execution_count": 42,
   "metadata": {},
   "outputs": [],
   "source": [
    "# Meta-analysis: dependence on t_max. Takes ~ 4min to run\n",
    "\n",
    "# tau_max_lower = 20\n",
    "# tau_max_upper = 1000\n",
    "\n",
    "# tau_fit_max = np.arange(tau_max_lower, tau_max_upper +1)\n",
    "# tau_ts_meta = np.array([])\n",
    "\n",
    "# for i in tau_fit_max:\n",
    "#     ts_est_final = compute_taylor_chuychai(time_lags_hr, r_vec_hr, tau_min=10, tau_max=i, q = -2.14, show = False)\n",
    "#     tau_ts_meta = np.append(tau_ts_meta, ts_est_final)\n",
    "\n",
    "# plt.plot(tau_fit_max, tau_ts_meta)\n",
    "# plt.xlabel(\"$\\\\tau_{max}$\")\n",
    "# plt.ylabel(\"$\\\\tau_{final}$\")\n",
    "# plt.show()"
   ]
  },
  {
   "attachments": {},
   "cell_type": "markdown",
   "metadata": {},
   "source": [
    "These settings can be investigated by looking at the output plots of the `calculate_numerical_vars.py` script. These show the ACFs and fits for the min, median and max correlation scale (exp method) and Taylor scale."
   ]
  },
  {
   "cell_type": "markdown",
   "metadata": {},
   "source": [
    "### Spectrum comparison for intervals with different energies\n",
    "This is the update to the spectrum \"cartoon\" which demonstrates the important of the Taylor scale Re in capturing the different energies (fluctuation amplitudes)"
   ]
  },
  {
   "cell_type": "code",
   "execution_count": 43,
   "metadata": {},
   "outputs": [
    {
     "data": {
      "text/html": [
       "<div>\n",
       "<style scoped>\n",
       "    .dataframe tbody tr th:only-of-type {\n",
       "        vertical-align: middle;\n",
       "    }\n",
       "\n",
       "    .dataframe tbody tr th {\n",
       "        vertical-align: top;\n",
       "    }\n",
       "\n",
       "    .dataframe thead th {\n",
       "        text-align: right;\n",
       "    }\n",
       "</style>\n",
       "<table border=\"1\" class=\"dataframe\">\n",
       "  <thead>\n",
       "    <tr style=\"text-align: right;\">\n",
       "      <th></th>\n",
       "      <th>tcf</th>\n",
       "      <th>di</th>\n",
       "      <th>db</th>\n",
       "      <th>qi</th>\n",
       "      <th>qk</th>\n",
       "      <th>tb</th>\n",
       "      <th>Re_di</th>\n",
       "      <th>Re_tb</th>\n",
       "      <th>Re_lt</th>\n",
       "      <th>ttc</th>\n",
       "    </tr>\n",
       "    <tr>\n",
       "      <th>Timestamp</th>\n",
       "      <th></th>\n",
       "      <th></th>\n",
       "      <th></th>\n",
       "      <th></th>\n",
       "      <th></th>\n",
       "      <th></th>\n",
       "      <th></th>\n",
       "      <th></th>\n",
       "      <th></th>\n",
       "      <th></th>\n",
       "    </tr>\n",
       "  </thead>\n",
       "  <tbody>\n",
       "    <tr>\n",
       "      <th>1996-10-15 00:00:00</th>\n",
       "      <td>1238.181517</td>\n",
       "      <td>99.437990</td>\n",
       "      <td>2.343139</td>\n",
       "      <td>-1.767639</td>\n",
       "      <td>-1.374661</td>\n",
       "      <td>NaN</td>\n",
       "      <td>82402.04697</td>\n",
       "      <td>NaN</td>\n",
       "      <td>233866.7305</td>\n",
       "      <td>2.560354</td>\n",
       "    </tr>\n",
       "    <tr>\n",
       "      <th>2004-02-28 12:00:00</th>\n",
       "      <td>931.454518</td>\n",
       "      <td>99.859505</td>\n",
       "      <td>14.106367</td>\n",
       "      <td>-0.843478</td>\n",
       "      <td>-2.989925</td>\n",
       "      <td>0.803546</td>\n",
       "      <td>79134.94457</td>\n",
       "      <td>12176.83225</td>\n",
       "      <td>121398.1275</td>\n",
       "      <td>2.673349</td>\n",
       "    </tr>\n",
       "  </tbody>\n",
       "</table>\n",
       "</div>"
      ],
      "text/plain": [
       "                             tcf         di         db        qi        qk  \\\n",
       "Timestamp                                                                    \n",
       "1996-10-15 00:00:00  1238.181517  99.437990   2.343139 -1.767639 -1.374661   \n",
       "2004-02-28 12:00:00   931.454518  99.859505  14.106367 -0.843478 -2.989925   \n",
       "\n",
       "                           tb        Re_di        Re_tb        Re_lt       ttc  \n",
       "Timestamp                                                                       \n",
       "1996-10-15 00:00:00       NaN  82402.04697          NaN  233866.7305  2.560354  \n",
       "2004-02-28 12:00:00  0.803546  79134.94457  12176.83225  121398.1275  2.673349  "
      ]
     },
     "execution_count": 43,
     "metadata": {},
     "output_type": "execute_result"
    }
   ],
   "source": [
    "# Min and max of db. Want to compute the intervals of these.\n",
    "timestamp_1 = \"1996-10-15 00:00:00\"\n",
    "timestamp_2 = \"2004-02-28 12:00\"\n",
    "\n",
    "df_wind.loc[[timestamp_1, timestamp_2]][['tcf', 'di', 'db', 'qi', 'qk', 'tb', 'Re_di', 'Re_tb', 'Re_lt', 'ttc']]"
   ]
  },
  {
   "cell_type": "code",
   "execution_count": 44,
   "metadata": {},
   "outputs": [],
   "source": [
    "def process_get_spectra(file, timestamp):\n",
    "    print(file, timestamp)\n",
    "\n",
    "    df = utils.pipeline(\n",
    "    file,\n",
    "    varlist=sys_arg_dict[\"mag_vars\"],\n",
    "    thresholds=sys_arg_dict[\"mag_thresh\"],\n",
    "    cadence=sys_arg_dict[\"dt_hr\"]\n",
    ")\n",
    "    #print(\"Reading {0}: {1:.2f}% missing\".format(file, df.iloc[:,0].isna().sum()/len(df)*100))\n",
    "\n",
    "    # Ensuring observations are in chronological order\n",
    "    df_wind_hr = df.sort_index()\n",
    "\n",
    "    df_wind_hr = df_wind_hr.rename(\n",
    "    columns={\n",
    "        params.Bwind:'Bwind',\n",
    "        params.Bx:'Bx',\n",
    "        params.By:'By',\n",
    "        params.Bz:'Bz'})\n",
    "\n",
    "    df_wind_hr.shape\n",
    "    int_wind_hr = df_wind_hr[pd.to_datetime(timestamp):pd.to_datetime(timestamp)+pd.to_timedelta(\"12H\")]\n",
    "    int_wind_hr.shape   \n",
    "\n",
    "    missing =  int_wind_hr.iloc[:,0].isna().sum()/len(int_wind_hr)\n",
    "    print(missing)\n",
    "\n",
    "    if missing > 0.4:\n",
    "        # Replacing values in lists with na\n",
    "        print(\"Large missing %\")\n",
    "    else:\n",
    "        int_wind_hr = int_wind_hr.interpolate().ffill().bfill()\n",
    "\n",
    "    z_i, z_k, spectral_break, fig, ax, f_periodogram, p_smooth = utils.compute_spectral_stats(\n",
    "        np.array([int_wind_hr.Bx, int_wind_hr.By, int_wind_hr.Bz]), \n",
    "        dt=float(params.dt_hr[:-1]),\n",
    "        f_min_inertial=params.f_min_inertial, f_max_inertial=params.f_max_inertial,\n",
    "        f_min_kinetic=params.f_min_kinetic, f_max_kinetic=params.f_max_kinetic,\n",
    "        plot=True)\n",
    "    \n",
    "    return z_i, z_k, spectral_break, f_periodogram, p_smooth"
   ]
  },
  {
   "cell_type": "code",
   "execution_count": 47,
   "metadata": {},
   "outputs": [
    {
     "name": "stdout",
     "output_type": "stream",
     "text": [
      "data/spare_data/1996/wi_h2_mfi_19961015_v05.cdf 1996-10-15 00:00:00\n",
      "0.008940170284901378\n"
     ]
    },
    {
     "name": "stderr",
     "output_type": "stream",
     "text": [
      "posx and posy should be finite values\n",
      "posx and posy should be finite values\n"
     ]
    },
    {
     "data": {
      "image/png": "[encoded data removed]",
      "text/plain": [
       "<Figure size 237.6x144 with 1 Axes>"
      ]
     },
     "metadata": {
      "needs_background": "light"
     },
     "output_type": "display_data"
    }
   ],
   "source": [
    "z_i1, z_k1, spectral_break1, f_periodogram1, p_smooth1 = process_get_spectra(\"data/spare_data/1996/wi_h2_mfi_19961015_v05.cdf\", timestamp_1)"
   ]
  },
  {
   "cell_type": "code",
   "execution_count": 48,
   "metadata": {},
   "outputs": [
    {
     "name": "stdout",
     "output_type": "stream",
     "text": [
      "data/spare_data/2004/wi_h2_mfi_20040228_v05.cdf 2004-02-28 12:00\n"
     ]
    },
    {
     "name": "stdout",
     "output_type": "stream",
     "text": [
      "0.008535577684831035\n"
     ]
    },
    {
     "data": {
      "image/png": "[encoded data removed]",
      "text/plain": [
       "<Figure size 237.6x144 with 1 Axes>"
      ]
     },
     "metadata": {
      "needs_background": "light"
     },
     "output_type": "display_data"
    }
   ],
   "source": [
    "z_i2, z_k2, spectral_break2, f_periodogram2, p_smooth2 = process_get_spectra(\"data/spare_data/2004/wi_h2_mfi_20040228_v05.cdf\", timestamp_2)"
   ]
  },
  {
   "cell_type": "code",
   "execution_count": 49,
   "metadata": {},
   "outputs": [],
   "source": [
    "df_wind['f_cf'] = 1/(df_wind['tcf'])\n",
    "df_wind['f_di'] = df_wind['vsw']/(df_wind['di']*2*np.pi)"
   ]
  },
  {
   "cell_type": "code",
   "execution_count": 54,
   "metadata": {},
   "outputs": [
    {
     "data": {
      "text/plain": [
       "[]"
      ]
     },
     "execution_count": 54,
     "metadata": {},
     "output_type": "execute_result"
    },
    {
     "data": {
      "image/png": "[encoded data removed]",
      "text/plain": [
       "<Figure size 237.6x144 with 1 Axes>"
      ]
     },
     "metadata": {},
     "output_type": "display_data"
    }
   ],
   "source": [
    "fig, ax = plt.subplots(figsize = (3.3,2))\n",
    "ax.set_ylim(1e-6, 1e8)\n",
    "ax.set_xlim(1e-5, 5)\n",
    "\n",
    "ax.semilogy(f_periodogram1, p_smooth1, ls = '--', color = \"green\", alpha=0.5)\n",
    "ax.semilogy(f_periodogram2, p_smooth2, ls = 'dotted', color = \"blue\", alpha=0.5)\n",
    "ax.semilogx()\n",
    "ax.set_xlabel(\"$\\log(k)$\")\n",
    "ax.set_ylabel(\"$\\log(E(k))$\")\n",
    "ax.axvline(df_wind.loc[timestamp_1, \"f_di\"], ls = '--', color = \"green\")\n",
    "ax.axvline(df_wind.loc[timestamp_2, \"f_di\"], ls = 'dotted', color = \"blue\")\n",
    "#ax.axvline(5e-1, label = \"$\\lambda_d$\", color='black', alpha = 0.6)\n",
    "ax.axvline(df_wind.loc[timestamp_1, \"f_cf\"], ls = '--', color = \"green\")\n",
    "ax.axvline(df_wind.loc[timestamp_2, \"f_cf\"], ls = 'dotted', color = \"blue\")\n",
    "ax.text(2e-4, 1e-5, \"$\\lambda_C$\")\n",
    "ax.text(2e-1, 1e-5, \"$d_i$\")\n",
    "ax.text(2e-3, 5e-3, \"$Re_{{\\lambda_T}}={0:.0f}$\".format(round(df_wind.loc[timestamp_2, \"Re_lt\"],-3)),\n",
    "                                                            color = \"blue\")\n",
    "ax.text(2e-3, 5e-4, \"$Re_{{\\lambda_T}}={0:.0f}$\".format(round(df_wind.loc[timestamp_1, \"Re_lt\"],-3)),\n",
    "                                                          color = \"green\")\n",
    "ax.text(2e-3, 1e6, \"$Re_{{d_i}}={0:.0f}$\".format(round(df_wind.loc[timestamp_2, \"Re_di\"],-3)),\n",
    "                                                          color=\"blue\")\n",
    "ax.text(2e-3, 1e5, \"$Re_{{d_i}}={0:.0f}$\".format(round(df_wind.loc[timestamp_1, \"Re_di\"],-3)),\n",
    "                                                          color=\"green\")                                                          \n",
    "ax.set_xticks([])\n",
    "ax.set_xticks([], minor=True)\n",
    "ax.set_yticks([])"
   ]
  },
  {
   "cell_type": "code",
   "execution_count": 55,
   "metadata": {},
   "outputs": [],
   "source": [
    "fig.savefig(\"plots/final/spectrum_comparison.pdf\")"
   ]
  }
 ],
 "metadata": {
  "kernelspec": {
   "display_name": "Python 3.10.4 64-bit",
   "language": "python",
   "name": "python3"
  },
  "language_info": {
   "codemirror_mode": {
    "name": "ipython",
    "version": 3
   },
   "file_extension": ".py",
   "mimetype": "text/x-python",
   "name": "python",
   "nbconvert_exporter": "python",
   "pygments_lexer": "ipython3",
   "version": "3.10.4"
  },
  "orig_nbformat": 4,
  "vscode": {
   "interpreter": {
    "hash": "690c7be24fab4b896e6241006c45e576997b24f388f83156a67f10121b6b03e9"
   }
  }
 },
 "nbformat": 4,
 "nbformat_minor": 2
}
